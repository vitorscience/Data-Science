{
  "nbformat": 4,
  "nbformat_minor": 0,
  "metadata": {
    "colab": {
      "provenance": [],
      "include_colab_link": true
    },
    "kernelspec": {
      "name": "python3",
      "display_name": "Python 3"
    },
    "widgets": {
      "application/vnd.jupyter.widget-state+json": {
        "d94c323748ac450cb24a021b99ccc2bd": {
          "model_module": "@jupyter-widgets/controls",
          "model_name": "HBoxModel",
          "model_module_version": "1.5.0",
          "state": {
            "_dom_classes": [],
            "_model_module": "@jupyter-widgets/controls",
            "_model_module_version": "1.5.0",
            "_model_name": "HBoxModel",
            "_view_count": null,
            "_view_module": "@jupyter-widgets/controls",
            "_view_module_version": "1.5.0",
            "_view_name": "HBoxView",
            "box_style": "",
            "children": [
              "IPY_MODEL_ff1398dcb7864eb1a766fcfe644515ec",
              "IPY_MODEL_e9abb5b573ed4c018af86d6ba8a68d83",
              "IPY_MODEL_17780db011fb4e76a0eae7239a281d7d"
            ],
            "layout": "IPY_MODEL_f401990925e4428b9c5f077e68c20a84"
          }
        },
        "ff1398dcb7864eb1a766fcfe644515ec": {
          "model_module": "@jupyter-widgets/controls",
          "model_name": "HTMLModel",
          "model_module_version": "1.5.0",
          "state": {
            "_dom_classes": [],
            "_model_module": "@jupyter-widgets/controls",
            "_model_module_version": "1.5.0",
            "_model_name": "HTMLModel",
            "_view_count": null,
            "_view_module": "@jupyter-widgets/controls",
            "_view_module_version": "1.5.0",
            "_view_name": "HTMLView",
            "description": "",
            "description_tooltip": null,
            "layout": "IPY_MODEL_60a966e6d6f24d0d98e8e52bb61cbd85",
            "placeholder": "​",
            "style": "IPY_MODEL_13630d72e61b428283cb1da1efff8ac6",
            "value": "Processing: 100%"
          }
        },
        "e9abb5b573ed4c018af86d6ba8a68d83": {
          "model_module": "@jupyter-widgets/controls",
          "model_name": "FloatProgressModel",
          "model_module_version": "1.5.0",
          "state": {
            "_dom_classes": [],
            "_model_module": "@jupyter-widgets/controls",
            "_model_module_version": "1.5.0",
            "_model_name": "FloatProgressModel",
            "_view_count": null,
            "_view_module": "@jupyter-widgets/controls",
            "_view_module_version": "1.5.0",
            "_view_name": "ProgressView",
            "bar_style": "",
            "description": "",
            "description_tooltip": null,
            "layout": "IPY_MODEL_c166e58ca8364f72a624dc69f5242444",
            "max": 69,
            "min": 0,
            "orientation": "horizontal",
            "style": "IPY_MODEL_82cf9f64cf6a4b2ea047cb9e81c0d34f",
            "value": 69
          }
        },
        "17780db011fb4e76a0eae7239a281d7d": {
          "model_module": "@jupyter-widgets/controls",
          "model_name": "HTMLModel",
          "model_module_version": "1.5.0",
          "state": {
            "_dom_classes": [],
            "_model_module": "@jupyter-widgets/controls",
            "_model_module_version": "1.5.0",
            "_model_name": "HTMLModel",
            "_view_count": null,
            "_view_module": "@jupyter-widgets/controls",
            "_view_module_version": "1.5.0",
            "_view_name": "HTMLView",
            "description": "",
            "description_tooltip": null,
            "layout": "IPY_MODEL_d3b28724297f43b1b93060b02fd20968",
            "placeholder": "​",
            "style": "IPY_MODEL_c1e1ab8cd4a149e6af8a80d520420c3f",
            "value": " 69/69 [02:22&lt;00:00,  2.82s/it]"
          }
        },
        "f401990925e4428b9c5f077e68c20a84": {
          "model_module": "@jupyter-widgets/base",
          "model_name": "LayoutModel",
          "model_module_version": "1.2.0",
          "state": {
            "_model_module": "@jupyter-widgets/base",
            "_model_module_version": "1.2.0",
            "_model_name": "LayoutModel",
            "_view_count": null,
            "_view_module": "@jupyter-widgets/base",
            "_view_module_version": "1.2.0",
            "_view_name": "LayoutView",
            "align_content": null,
            "align_items": null,
            "align_self": null,
            "border": null,
            "bottom": null,
            "display": null,
            "flex": null,
            "flex_flow": null,
            "grid_area": null,
            "grid_auto_columns": null,
            "grid_auto_flow": null,
            "grid_auto_rows": null,
            "grid_column": null,
            "grid_gap": null,
            "grid_row": null,
            "grid_template_areas": null,
            "grid_template_columns": null,
            "grid_template_rows": null,
            "height": null,
            "justify_content": null,
            "justify_items": null,
            "left": null,
            "margin": null,
            "max_height": null,
            "max_width": null,
            "min_height": null,
            "min_width": null,
            "object_fit": null,
            "object_position": null,
            "order": null,
            "overflow": null,
            "overflow_x": null,
            "overflow_y": null,
            "padding": null,
            "right": null,
            "top": null,
            "visibility": "hidden",
            "width": null
          }
        },
        "60a966e6d6f24d0d98e8e52bb61cbd85": {
          "model_module": "@jupyter-widgets/base",
          "model_name": "LayoutModel",
          "model_module_version": "1.2.0",
          "state": {
            "_model_module": "@jupyter-widgets/base",
            "_model_module_version": "1.2.0",
            "_model_name": "LayoutModel",
            "_view_count": null,
            "_view_module": "@jupyter-widgets/base",
            "_view_module_version": "1.2.0",
            "_view_name": "LayoutView",
            "align_content": null,
            "align_items": null,
            "align_self": null,
            "border": null,
            "bottom": null,
            "display": null,
            "flex": null,
            "flex_flow": null,
            "grid_area": null,
            "grid_auto_columns": null,
            "grid_auto_flow": null,
            "grid_auto_rows": null,
            "grid_column": null,
            "grid_gap": null,
            "grid_row": null,
            "grid_template_areas": null,
            "grid_template_columns": null,
            "grid_template_rows": null,
            "height": null,
            "justify_content": null,
            "justify_items": null,
            "left": null,
            "margin": null,
            "max_height": null,
            "max_width": null,
            "min_height": null,
            "min_width": null,
            "object_fit": null,
            "object_position": null,
            "order": null,
            "overflow": null,
            "overflow_x": null,
            "overflow_y": null,
            "padding": null,
            "right": null,
            "top": null,
            "visibility": null,
            "width": null
          }
        },
        "13630d72e61b428283cb1da1efff8ac6": {
          "model_module": "@jupyter-widgets/controls",
          "model_name": "DescriptionStyleModel",
          "model_module_version": "1.5.0",
          "state": {
            "_model_module": "@jupyter-widgets/controls",
            "_model_module_version": "1.5.0",
            "_model_name": "DescriptionStyleModel",
            "_view_count": null,
            "_view_module": "@jupyter-widgets/base",
            "_view_module_version": "1.2.0",
            "_view_name": "StyleView",
            "description_width": ""
          }
        },
        "c166e58ca8364f72a624dc69f5242444": {
          "model_module": "@jupyter-widgets/base",
          "model_name": "LayoutModel",
          "model_module_version": "1.2.0",
          "state": {
            "_model_module": "@jupyter-widgets/base",
            "_model_module_version": "1.2.0",
            "_model_name": "LayoutModel",
            "_view_count": null,
            "_view_module": "@jupyter-widgets/base",
            "_view_module_version": "1.2.0",
            "_view_name": "LayoutView",
            "align_content": null,
            "align_items": null,
            "align_self": null,
            "border": null,
            "bottom": null,
            "display": null,
            "flex": null,
            "flex_flow": null,
            "grid_area": null,
            "grid_auto_columns": null,
            "grid_auto_flow": null,
            "grid_auto_rows": null,
            "grid_column": null,
            "grid_gap": null,
            "grid_row": null,
            "grid_template_areas": null,
            "grid_template_columns": null,
            "grid_template_rows": null,
            "height": null,
            "justify_content": null,
            "justify_items": null,
            "left": null,
            "margin": null,
            "max_height": null,
            "max_width": null,
            "min_height": null,
            "min_width": null,
            "object_fit": null,
            "object_position": null,
            "order": null,
            "overflow": null,
            "overflow_x": null,
            "overflow_y": null,
            "padding": null,
            "right": null,
            "top": null,
            "visibility": null,
            "width": null
          }
        },
        "82cf9f64cf6a4b2ea047cb9e81c0d34f": {
          "model_module": "@jupyter-widgets/controls",
          "model_name": "ProgressStyleModel",
          "model_module_version": "1.5.0",
          "state": {
            "_model_module": "@jupyter-widgets/controls",
            "_model_module_version": "1.5.0",
            "_model_name": "ProgressStyleModel",
            "_view_count": null,
            "_view_module": "@jupyter-widgets/base",
            "_view_module_version": "1.2.0",
            "_view_name": "StyleView",
            "bar_color": null,
            "description_width": ""
          }
        },
        "d3b28724297f43b1b93060b02fd20968": {
          "model_module": "@jupyter-widgets/base",
          "model_name": "LayoutModel",
          "model_module_version": "1.2.0",
          "state": {
            "_model_module": "@jupyter-widgets/base",
            "_model_module_version": "1.2.0",
            "_model_name": "LayoutModel",
            "_view_count": null,
            "_view_module": "@jupyter-widgets/base",
            "_view_module_version": "1.2.0",
            "_view_name": "LayoutView",
            "align_content": null,
            "align_items": null,
            "align_self": null,
            "border": null,
            "bottom": null,
            "display": null,
            "flex": null,
            "flex_flow": null,
            "grid_area": null,
            "grid_auto_columns": null,
            "grid_auto_flow": null,
            "grid_auto_rows": null,
            "grid_column": null,
            "grid_gap": null,
            "grid_row": null,
            "grid_template_areas": null,
            "grid_template_columns": null,
            "grid_template_rows": null,
            "height": null,
            "justify_content": null,
            "justify_items": null,
            "left": null,
            "margin": null,
            "max_height": null,
            "max_width": null,
            "min_height": null,
            "min_width": null,
            "object_fit": null,
            "object_position": null,
            "order": null,
            "overflow": null,
            "overflow_x": null,
            "overflow_y": null,
            "padding": null,
            "right": null,
            "top": null,
            "visibility": null,
            "width": null
          }
        },
        "c1e1ab8cd4a149e6af8a80d520420c3f": {
          "model_module": "@jupyter-widgets/controls",
          "model_name": "DescriptionStyleModel",
          "model_module_version": "1.5.0",
          "state": {
            "_model_module": "@jupyter-widgets/controls",
            "_model_module_version": "1.5.0",
            "_model_name": "DescriptionStyleModel",
            "_view_count": null,
            "_view_module": "@jupyter-widgets/base",
            "_view_module_version": "1.2.0",
            "_view_name": "StyleView",
            "description_width": ""
          }
        },
        "9a5c0a1e819e4473b0d7817a25d50b40": {
          "model_module": "@jupyter-widgets/controls",
          "model_name": "HBoxModel",
          "model_module_version": "1.5.0",
          "state": {
            "_dom_classes": [],
            "_model_module": "@jupyter-widgets/controls",
            "_model_module_version": "1.5.0",
            "_model_name": "HBoxModel",
            "_view_count": null,
            "_view_module": "@jupyter-widgets/controls",
            "_view_module_version": "1.5.0",
            "_view_name": "HBoxView",
            "box_style": "",
            "children": [
              "IPY_MODEL_e7226799705747e290f864095a3a0968",
              "IPY_MODEL_d9be8341291c4ec59bed83713eb56d28",
              "IPY_MODEL_fde5f1c0e8f04e7fbb96d0b088142c7a"
            ],
            "layout": "IPY_MODEL_57cea99abbac4207a40a9e197caf1103"
          }
        },
        "e7226799705747e290f864095a3a0968": {
          "model_module": "@jupyter-widgets/controls",
          "model_name": "HTMLModel",
          "model_module_version": "1.5.0",
          "state": {
            "_dom_classes": [],
            "_model_module": "@jupyter-widgets/controls",
            "_model_module_version": "1.5.0",
            "_model_name": "HTMLModel",
            "_view_count": null,
            "_view_module": "@jupyter-widgets/controls",
            "_view_module_version": "1.5.0",
            "_view_name": "HTMLView",
            "description": "",
            "description_tooltip": null,
            "layout": "IPY_MODEL_e3c8e78928194d41a15b949f16140e24",
            "placeholder": "​",
            "style": "IPY_MODEL_eef7a8ff4d074013bd0f6b5a7de7e52a",
            "value": "Processing: 100%"
          }
        },
        "d9be8341291c4ec59bed83713eb56d28": {
          "model_module": "@jupyter-widgets/controls",
          "model_name": "FloatProgressModel",
          "model_module_version": "1.5.0",
          "state": {
            "_dom_classes": [],
            "_model_module": "@jupyter-widgets/controls",
            "_model_module_version": "1.5.0",
            "_model_name": "FloatProgressModel",
            "_view_count": null,
            "_view_module": "@jupyter-widgets/controls",
            "_view_module_version": "1.5.0",
            "_view_name": "ProgressView",
            "bar_style": "",
            "description": "",
            "description_tooltip": null,
            "layout": "IPY_MODEL_a0e23d28bc984bfd8f5a5704494b387f",
            "max": 7,
            "min": 0,
            "orientation": "horizontal",
            "style": "IPY_MODEL_8e85bbabdc6245b8b2feda88428bc29e",
            "value": 7
          }
        },
        "fde5f1c0e8f04e7fbb96d0b088142c7a": {
          "model_module": "@jupyter-widgets/controls",
          "model_name": "HTMLModel",
          "model_module_version": "1.5.0",
          "state": {
            "_dom_classes": [],
            "_model_module": "@jupyter-widgets/controls",
            "_model_module_version": "1.5.0",
            "_model_name": "HTMLModel",
            "_view_count": null,
            "_view_module": "@jupyter-widgets/controls",
            "_view_module_version": "1.5.0",
            "_view_name": "HTMLView",
            "description": "",
            "description_tooltip": null,
            "layout": "IPY_MODEL_9329a6102d364300afcbd37c55b0c27f",
            "placeholder": "​",
            "style": "IPY_MODEL_8e67f29557ef4be1b2d0bdccb0ccf806",
            "value": " 7/7 [00:42&lt;00:00,  5.02s/it]"
          }
        },
        "57cea99abbac4207a40a9e197caf1103": {
          "model_module": "@jupyter-widgets/base",
          "model_name": "LayoutModel",
          "model_module_version": "1.2.0",
          "state": {
            "_model_module": "@jupyter-widgets/base",
            "_model_module_version": "1.2.0",
            "_model_name": "LayoutModel",
            "_view_count": null,
            "_view_module": "@jupyter-widgets/base",
            "_view_module_version": "1.2.0",
            "_view_name": "LayoutView",
            "align_content": null,
            "align_items": null,
            "align_self": null,
            "border": null,
            "bottom": null,
            "display": null,
            "flex": null,
            "flex_flow": null,
            "grid_area": null,
            "grid_auto_columns": null,
            "grid_auto_flow": null,
            "grid_auto_rows": null,
            "grid_column": null,
            "grid_gap": null,
            "grid_row": null,
            "grid_template_areas": null,
            "grid_template_columns": null,
            "grid_template_rows": null,
            "height": null,
            "justify_content": null,
            "justify_items": null,
            "left": null,
            "margin": null,
            "max_height": null,
            "max_width": null,
            "min_height": null,
            "min_width": null,
            "object_fit": null,
            "object_position": null,
            "order": null,
            "overflow": null,
            "overflow_x": null,
            "overflow_y": null,
            "padding": null,
            "right": null,
            "top": null,
            "visibility": "hidden",
            "width": null
          }
        },
        "e3c8e78928194d41a15b949f16140e24": {
          "model_module": "@jupyter-widgets/base",
          "model_name": "LayoutModel",
          "model_module_version": "1.2.0",
          "state": {
            "_model_module": "@jupyter-widgets/base",
            "_model_module_version": "1.2.0",
            "_model_name": "LayoutModel",
            "_view_count": null,
            "_view_module": "@jupyter-widgets/base",
            "_view_module_version": "1.2.0",
            "_view_name": "LayoutView",
            "align_content": null,
            "align_items": null,
            "align_self": null,
            "border": null,
            "bottom": null,
            "display": null,
            "flex": null,
            "flex_flow": null,
            "grid_area": null,
            "grid_auto_columns": null,
            "grid_auto_flow": null,
            "grid_auto_rows": null,
            "grid_column": null,
            "grid_gap": null,
            "grid_row": null,
            "grid_template_areas": null,
            "grid_template_columns": null,
            "grid_template_rows": null,
            "height": null,
            "justify_content": null,
            "justify_items": null,
            "left": null,
            "margin": null,
            "max_height": null,
            "max_width": null,
            "min_height": null,
            "min_width": null,
            "object_fit": null,
            "object_position": null,
            "order": null,
            "overflow": null,
            "overflow_x": null,
            "overflow_y": null,
            "padding": null,
            "right": null,
            "top": null,
            "visibility": null,
            "width": null
          }
        },
        "eef7a8ff4d074013bd0f6b5a7de7e52a": {
          "model_module": "@jupyter-widgets/controls",
          "model_name": "DescriptionStyleModel",
          "model_module_version": "1.5.0",
          "state": {
            "_model_module": "@jupyter-widgets/controls",
            "_model_module_version": "1.5.0",
            "_model_name": "DescriptionStyleModel",
            "_view_count": null,
            "_view_module": "@jupyter-widgets/base",
            "_view_module_version": "1.2.0",
            "_view_name": "StyleView",
            "description_width": ""
          }
        },
        "a0e23d28bc984bfd8f5a5704494b387f": {
          "model_module": "@jupyter-widgets/base",
          "model_name": "LayoutModel",
          "model_module_version": "1.2.0",
          "state": {
            "_model_module": "@jupyter-widgets/base",
            "_model_module_version": "1.2.0",
            "_model_name": "LayoutModel",
            "_view_count": null,
            "_view_module": "@jupyter-widgets/base",
            "_view_module_version": "1.2.0",
            "_view_name": "LayoutView",
            "align_content": null,
            "align_items": null,
            "align_self": null,
            "border": null,
            "bottom": null,
            "display": null,
            "flex": null,
            "flex_flow": null,
            "grid_area": null,
            "grid_auto_columns": null,
            "grid_auto_flow": null,
            "grid_auto_rows": null,
            "grid_column": null,
            "grid_gap": null,
            "grid_row": null,
            "grid_template_areas": null,
            "grid_template_columns": null,
            "grid_template_rows": null,
            "height": null,
            "justify_content": null,
            "justify_items": null,
            "left": null,
            "margin": null,
            "max_height": null,
            "max_width": null,
            "min_height": null,
            "min_width": null,
            "object_fit": null,
            "object_position": null,
            "order": null,
            "overflow": null,
            "overflow_x": null,
            "overflow_y": null,
            "padding": null,
            "right": null,
            "top": null,
            "visibility": null,
            "width": null
          }
        },
        "8e85bbabdc6245b8b2feda88428bc29e": {
          "model_module": "@jupyter-widgets/controls",
          "model_name": "ProgressStyleModel",
          "model_module_version": "1.5.0",
          "state": {
            "_model_module": "@jupyter-widgets/controls",
            "_model_module_version": "1.5.0",
            "_model_name": "ProgressStyleModel",
            "_view_count": null,
            "_view_module": "@jupyter-widgets/base",
            "_view_module_version": "1.2.0",
            "_view_name": "StyleView",
            "bar_color": null,
            "description_width": ""
          }
        },
        "9329a6102d364300afcbd37c55b0c27f": {
          "model_module": "@jupyter-widgets/base",
          "model_name": "LayoutModel",
          "model_module_version": "1.2.0",
          "state": {
            "_model_module": "@jupyter-widgets/base",
            "_model_module_version": "1.2.0",
            "_model_name": "LayoutModel",
            "_view_count": null,
            "_view_module": "@jupyter-widgets/base",
            "_view_module_version": "1.2.0",
            "_view_name": "LayoutView",
            "align_content": null,
            "align_items": null,
            "align_self": null,
            "border": null,
            "bottom": null,
            "display": null,
            "flex": null,
            "flex_flow": null,
            "grid_area": null,
            "grid_auto_columns": null,
            "grid_auto_flow": null,
            "grid_auto_rows": null,
            "grid_column": null,
            "grid_gap": null,
            "grid_row": null,
            "grid_template_areas": null,
            "grid_template_columns": null,
            "grid_template_rows": null,
            "height": null,
            "justify_content": null,
            "justify_items": null,
            "left": null,
            "margin": null,
            "max_height": null,
            "max_width": null,
            "min_height": null,
            "min_width": null,
            "object_fit": null,
            "object_position": null,
            "order": null,
            "overflow": null,
            "overflow_x": null,
            "overflow_y": null,
            "padding": null,
            "right": null,
            "top": null,
            "visibility": null,
            "width": null
          }
        },
        "8e67f29557ef4be1b2d0bdccb0ccf806": {
          "model_module": "@jupyter-widgets/controls",
          "model_name": "DescriptionStyleModel",
          "model_module_version": "1.5.0",
          "state": {
            "_model_module": "@jupyter-widgets/controls",
            "_model_module_version": "1.5.0",
            "_model_name": "DescriptionStyleModel",
            "_view_count": null,
            "_view_module": "@jupyter-widgets/base",
            "_view_module_version": "1.2.0",
            "_view_name": "StyleView",
            "description_width": ""
          }
        }
      }
    }
  },
  "cells": [
    {
      "cell_type": "markdown",
      "metadata": {
        "id": "view-in-github",
        "colab_type": "text"
      },
      "source": [
        "<a href=\"https://colab.research.google.com/github/vitorscience/Data-Science/blob/main/classifica_o_com_pycaret_sa_de_fetal.ipynb\" target=\"_parent\"><img src=\"https://colab.research.google.com/assets/colab-badge.svg\" alt=\"Open In Colab\"/></a>"
      ]
    },
    {
      "cell_type": "markdown",
      "metadata": {
        "id": "EE9X48au6Mez"
      },
      "source": [
        "<img alt=\"Colaboratory logo\" width=\"15%\" src=\"https://raw.githubusercontent.com/carlosfab/escola-data-science/master/img/novo_logo_bg_claro.png\">\n",
        "\n",
        "#### **Data Science na Prática 4.0**\n",
        "\n",
        "\n",
        "---"
      ]
    },
    {
      "cell_type": "markdown",
      "source": [
        "# Classificação com PyCaret - Saúde Fetal\n",
        "\n",
        "A taxa de mortalidade infantil é um problema de saúde pública que pode ser reduzido com a aplicação de métodos eficazes de diagnóstico. Um desses métodos é o cardiotocograma, uma técnica que auxilia na identificação de possíveis problemas no feto ainda no útero materno, permitindo intervenções precoces para garantir a saúde do bebê e da mãe."
      ],
      "metadata": {
        "id": "DTDUd64W92ki"
      }
    },
    {
      "cell_type": "markdown",
      "source": [
        "# PyCaret\n",
        "\n",
        "O primeiro passo será a instalação do PyCaret. O PyCaret é uma biblioteca utilizada para automação de machine learning. Ela simplifica os processos, oferecendo uma vasta gama de funcionalidades e automatizando parte das etapas do processo."
      ],
      "metadata": {
        "id": "bXe81LbWZ5Oz"
      }
    },
    {
      "cell_type": "code",
      "source": [
        "# instalando a biblioteca\n",
        "!pip install pycaret -q\n",
        "!pip install mlflow -q\n",
        "!pip install scipy -q"
      ],
      "metadata": {
        "colab": {
          "base_uri": "https://localhost:8080/"
        },
        "id": "RX2SHgkRZdvE",
        "outputId": "573e05b7-72bf-4e7e-f2db-8b0d7eae3fba",
        "collapsed": true
      },
      "execution_count": null,
      "outputs": [
        {
          "output_type": "stream",
          "name": "stdout",
          "text": [
            "\u001b[2K     \u001b[90m━━━━━━━━━━━━━━━━━━━━━━━━━━━━━━━━━━━━━━━━\u001b[0m \u001b[32m60.4/60.4 kB\u001b[0m \u001b[31m4.6 MB/s\u001b[0m eta \u001b[36m0:00:00\u001b[0m\n",
            "\u001b[2K     \u001b[90m━━━━━━━━━━━━━━━━━━━━━━━━━━━━━━━━━━━━━━━━\u001b[0m \u001b[32m169.6/169.6 kB\u001b[0m \u001b[31m11.3 MB/s\u001b[0m eta \u001b[36m0:00:00\u001b[0m\n",
            "\u001b[?25h  Preparing metadata (setup.py) ... \u001b[?25l\u001b[?25hdone\n",
            "\u001b[2K   \u001b[90m━━━━━━━━━━━━━━━━━━━━━━━━━━━━━━━━━━━━━━━━\u001b[0m \u001b[32m486.1/486.1 kB\u001b[0m \u001b[31m12.0 MB/s\u001b[0m eta \u001b[36m0:00:00\u001b[0m\n",
            "\u001b[2K   \u001b[90m━━━━━━━━━━━━━━━━━━━━━━━━━━━━━━━━━━━━━━━━\u001b[0m \u001b[32m106.8/106.8 kB\u001b[0m \u001b[31m2.6 MB/s\u001b[0m eta \u001b[36m0:00:00\u001b[0m\n",
            "\u001b[2K   \u001b[90m━━━━━━━━━━━━━━━━━━━━━━━━━━━━━━━━━━━━━━━━\u001b[0m \u001b[32m21.8/21.8 MB\u001b[0m \u001b[31m19.4 MB/s\u001b[0m eta \u001b[36m0:00:00\u001b[0m\n",
            "\u001b[2K   \u001b[90m━━━━━━━━━━━━━━━━━━━━━━━━━━━━━━━━━━━━━━━━\u001b[0m \u001b[32m82.0/82.0 kB\u001b[0m \u001b[31m5.1 MB/s\u001b[0m eta \u001b[36m0:00:00\u001b[0m\n",
            "\u001b[2K   \u001b[90m━━━━━━━━━━━━━━━━━━━━━━━━━━━━━━━━━━━━━━━━\u001b[0m \u001b[32m302.2/302.2 kB\u001b[0m \u001b[31m10.0 MB/s\u001b[0m eta \u001b[36m0:00:00\u001b[0m\n",
            "\u001b[2K   \u001b[90m━━━━━━━━━━━━━━━━━━━━━━━━━━━━━━━━━━━━━━━━\u001b[0m \u001b[32m79.9/79.9 MB\u001b[0m \u001b[31m7.5 MB/s\u001b[0m eta \u001b[36m0:00:00\u001b[0m\n",
            "\u001b[2K   \u001b[90m━━━━━━━━━━━━━━━━━━━━━━━━━━━━━━━━━━━━━━━━\u001b[0m \u001b[32m11.6/11.6 MB\u001b[0m \u001b[31m95.4 MB/s\u001b[0m eta \u001b[36m0:00:00\u001b[0m\n",
            "\u001b[2K   \u001b[90m━━━━━━━━━━━━━━━━━━━━━━━━━━━━━━━━━━━━━━━━\u001b[0m \u001b[32m12.3/12.3 MB\u001b[0m \u001b[31m95.4 MB/s\u001b[0m eta \u001b[36m0:00:00\u001b[0m\n",
            "\u001b[2K   \u001b[90m━━━━━━━━━━━━━━━━━━━━━━━━━━━━━━━━━━━━━━━━\u001b[0m \u001b[32m80.7/80.7 kB\u001b[0m \u001b[31m6.6 MB/s\u001b[0m eta \u001b[36m0:00:00\u001b[0m\n",
            "\u001b[2K   \u001b[90m━━━━━━━━━━━━━━━━━━━━━━━━━━━━━━━━━━━━━━━━\u001b[0m \u001b[32m2.1/2.1 MB\u001b[0m \u001b[31m69.7 MB/s\u001b[0m eta \u001b[36m0:00:00\u001b[0m\n",
            "\u001b[2K   \u001b[90m━━━━━━━━━━━━━━━━━━━━━━━━━━━━━━━━━━━━━━━━\u001b[0m \u001b[32m12.1/12.1 MB\u001b[0m \u001b[31m95.5 MB/s\u001b[0m eta \u001b[36m0:00:00\u001b[0m\n",
            "\u001b[2K   \u001b[90m━━━━━━━━━━━━━━━━━━━━━━━━━━━━━━━━━━━━━━━━\u001b[0m \u001b[32m36.4/36.4 MB\u001b[0m \u001b[31m13.9 MB/s\u001b[0m eta \u001b[36m0:00:00\u001b[0m\n",
            "\u001b[2K   \u001b[90m━━━━━━━━━━━━━━━━━━━━━━━━━━━━━━━━━━━━━━━━\u001b[0m \u001b[32m44.0/44.0 kB\u001b[0m \u001b[31m2.8 MB/s\u001b[0m eta \u001b[36m0:00:00\u001b[0m\n",
            "\u001b[2K   \u001b[90m━━━━━━━━━━━━━━━━━━━━━━━━━━━━━━━━━━━━━━━━\u001b[0m \u001b[32m194.1/194.1 kB\u001b[0m \u001b[31m14.5 MB/s\u001b[0m eta \u001b[36m0:00:00\u001b[0m\n",
            "\u001b[2K   \u001b[90m━━━━━━━━━━━━━━━━━━━━━━━━━━━━━━━━━━━━━━━━\u001b[0m \u001b[32m7.8/7.8 MB\u001b[0m \u001b[31m65.7 MB/s\u001b[0m eta \u001b[36m0:00:00\u001b[0m\n",
            "\u001b[2K   \u001b[90m━━━━━━━━━━━━━━━━━━━━━━━━━━━━━━━━━━━━━━━━\u001b[0m \u001b[32m1.6/1.6 MB\u001b[0m \u001b[31m42.1 MB/s\u001b[0m eta \u001b[36m0:00:00\u001b[0m\n",
            "\u001b[2K   \u001b[90m━━━━━━━━━━━━━━━━━━━━━━━━━━━━━━━━━━━━━━━━\u001b[0m \u001b[32m130.1/130.1 kB\u001b[0m \u001b[31m8.8 MB/s\u001b[0m eta \u001b[36m0:00:00\u001b[0m\n",
            "\u001b[2K   \u001b[90m━━━━━━━━━━━━━━━━━━━━━━━━━━━━━━━━━━━━━━━━\u001b[0m \u001b[32m2.1/2.1 MB\u001b[0m \u001b[31m46.3 MB/s\u001b[0m eta \u001b[36m0:00:00\u001b[0m\n",
            "\u001b[2K   \u001b[90m━━━━━━━━━━━━━━━━━━━━━━━━━━━━━━━━━━━━━━━━\u001b[0m \u001b[32m101.7/101.7 kB\u001b[0m \u001b[31m8.0 MB/s\u001b[0m eta \u001b[36m0:00:00\u001b[0m\n",
            "\u001b[2K   \u001b[90m━━━━━━━━━━━━━━━━━━━━━━━━━━━━━━━━━━━━━━━━\u001b[0m \u001b[32m228.0/228.0 kB\u001b[0m \u001b[31m16.1 MB/s\u001b[0m eta \u001b[36m0:00:00\u001b[0m\n",
            "\u001b[?25h  Building wheel for pyod (setup.py) ... \u001b[?25l\u001b[?25hdone\n",
            "\u001b[31mERROR: pip's dependency resolver does not currently take into account all the packages that are installed. This behaviour is the source of the following dependency conflicts.\n",
            "google-colab 1.0.0 requires pandas==2.2.2, but you have pandas 2.1.4 which is incompatible.\n",
            "mizani 0.13.1 requires pandas>=2.2.0, but you have pandas 2.1.4 which is incompatible.\n",
            "plotnine 0.14.4 requires matplotlib>=3.8.0, but you have matplotlib 3.7.5 which is incompatible.\n",
            "plotnine 0.14.4 requires pandas>=2.2.0, but you have pandas 2.1.4 which is incompatible.\u001b[0m\u001b[31m\n",
            "\u001b[2K   \u001b[90m━━━━━━━━━━━━━━━━━━━━━━━━━━━━━━━━━━━━━━━━\u001b[0m \u001b[32m27.4/27.4 MB\u001b[0m \u001b[31m68.8 MB/s\u001b[0m eta \u001b[36m0:00:00\u001b[0m\n",
            "\u001b[2K   \u001b[90m━━━━━━━━━━━━━━━━━━━━━━━━━━━━━━━━━━━━━━━━\u001b[0m \u001b[32m5.9/5.9 MB\u001b[0m \u001b[31m85.4 MB/s\u001b[0m eta \u001b[36m0:00:00\u001b[0m\n",
            "\u001b[2K   \u001b[90m━━━━━━━━━━━━━━━━━━━━━━━━━━━━━━━━━━━━━━━━\u001b[0m \u001b[32m233.5/233.5 kB\u001b[0m \u001b[31m18.0 MB/s\u001b[0m eta \u001b[36m0:00:00\u001b[0m\n",
            "\u001b[2K   \u001b[90m━━━━━━━━━━━━━━━━━━━━━━━━━━━━━━━━━━━━━━━━\u001b[0m \u001b[32m147.8/147.8 kB\u001b[0m \u001b[31m12.1 MB/s\u001b[0m eta \u001b[36m0:00:00\u001b[0m\n",
            "\u001b[2K   \u001b[90m━━━━━━━━━━━━━━━━━━━━━━━━━━━━━━━━━━━━━━━━\u001b[0m \u001b[32m114.9/114.9 kB\u001b[0m \u001b[31m9.6 MB/s\u001b[0m eta \u001b[36m0:00:00\u001b[0m\n",
            "\u001b[2K   \u001b[90m━━━━━━━━━━━━━━━━━━━━━━━━━━━━━━━━━━━━━━━━\u001b[0m \u001b[32m85.0/85.0 kB\u001b[0m \u001b[31m7.1 MB/s\u001b[0m eta \u001b[36m0:00:00\u001b[0m\n",
            "\u001b[2K   \u001b[90m━━━━━━━━━━━━━━━━━━━━━━━━━━━━━━━━━━━━━━━━\u001b[0m \u001b[32m629.7/629.7 kB\u001b[0m \u001b[31m39.8 MB/s\u001b[0m eta \u001b[36m0:00:00\u001b[0m\n",
            "\u001b[2K   \u001b[90m━━━━━━━━━━━━━━━━━━━━━━━━━━━━━━━━━━━━━━━━\u001b[0m \u001b[32m203.2/203.2 kB\u001b[0m \u001b[31m15.1 MB/s\u001b[0m eta \u001b[36m0:00:00\u001b[0m\n",
            "\u001b[2K   \u001b[90m━━━━━━━━━━━━━━━━━━━━━━━━━━━━━━━━━━━━━━━━\u001b[0m \u001b[32m78.6/78.6 kB\u001b[0m \u001b[31m6.9 MB/s\u001b[0m eta \u001b[36m0:00:00\u001b[0m\n",
            "\u001b[?25h"
          ]
        }
      ]
    },
    {
      "cell_type": "code",
      "source": [
        "pip install pycaret==2.3.10 -q\n"
      ],
      "metadata": {
        "colab": {
          "base_uri": "https://localhost:8080/"
        },
        "id": "hxaggHGkauiF",
        "outputId": "84c98ba7-37d2-441e-c467-43f7f146b700",
        "collapsed": true
      },
      "execution_count": null,
      "outputs": [
        {
          "output_type": "stream",
          "name": "stdout",
          "text": [
            "\u001b[2K     \u001b[90m━━━━━━━━━━━━━━━━━━━━━━━━━━━━━━━━━━━━━━━━\u001b[0m \u001b[32m25.2/25.2 MB\u001b[0m \u001b[31m28.1 MB/s\u001b[0m eta \u001b[36m0:00:00\u001b[0m\n",
            "\u001b[?25h  \u001b[1;31merror\u001b[0m: \u001b[1msubprocess-exited-with-error\u001b[0m\n",
            "  \n",
            "  \u001b[31m×\u001b[0m \u001b[32mpip subprocess to install build dependencies\u001b[0m did not run successfully.\n",
            "  \u001b[31m│\u001b[0m exit code: \u001b[1;36m1\u001b[0m\n",
            "  \u001b[31m╰─>\u001b[0m See above for output.\n",
            "  \n",
            "  \u001b[1;35mnote\u001b[0m: This error originates from a subprocess, and is likely not a problem with pip.\n",
            "  Installing build dependencies ... \u001b[?25l\u001b[?25herror\n",
            "\u001b[1;31merror\u001b[0m: \u001b[1msubprocess-exited-with-error\u001b[0m\n",
            "\n",
            "\u001b[31m×\u001b[0m \u001b[32mpip subprocess to install build dependencies\u001b[0m did not run successfully.\n",
            "\u001b[31m│\u001b[0m exit code: \u001b[1;36m1\u001b[0m\n",
            "\u001b[31m╰─>\u001b[0m See above for output.\n",
            "\n",
            "\u001b[1;35mnote\u001b[0m: This error originates from a subprocess, and is likely not a problem with pip.\n"
          ]
        }
      ]
    },
    {
      "cell_type": "code",
      "source": [
        "pip install pandas-profiling -q"
      ],
      "metadata": {
        "id": "IICf8bpC4nqq",
        "colab": {
          "base_uri": "https://localhost:8080/"
        },
        "outputId": "9d170a0e-39cb-475f-c6a9-f40c1b9505df",
        "collapsed": true
      },
      "execution_count": null,
      "outputs": [
        {
          "output_type": "stream",
          "name": "stdout",
          "text": [
            "  Preparing metadata (setup.py) ... \u001b[?25l\u001b[?25hdone\n",
            "\u001b[2K   \u001b[90m━━━━━━━━━━━━━━━━━━━━━━━━━━━━━━━━━━━━━━━━\u001b[0m \u001b[32m324.4/324.4 kB\u001b[0m \u001b[31m20.3 MB/s\u001b[0m eta \u001b[36m0:00:00\u001b[0m\n",
            "\u001b[2K   \u001b[90m━━━━━━━━━━━━━━━━━━━━━━━━━━━━━━━━━━━━━━━━\u001b[0m \u001b[32m390.9/390.9 kB\u001b[0m \u001b[31m25.3 MB/s\u001b[0m eta \u001b[36m0:00:00\u001b[0m\n",
            "\u001b[2K   \u001b[90m━━━━━━━━━━━━━━━━━━━━━━━━━━━━━━━━━━━━━━━━\u001b[0m \u001b[32m296.5/296.5 kB\u001b[0m \u001b[31m20.6 MB/s\u001b[0m eta \u001b[36m0:00:00\u001b[0m\n",
            "\u001b[2K   \u001b[90m━━━━━━━━━━━━━━━━━━━━━━━━━━━━━━━━━━━━━━━━\u001b[0m \u001b[32m686.1/686.1 kB\u001b[0m \u001b[31m25.4 MB/s\u001b[0m eta \u001b[36m0:00:00\u001b[0m\n",
            "\u001b[2K   \u001b[90m━━━━━━━━━━━━━━━━━━━━━━━━━━━━━━━━━━━━━━━━\u001b[0m \u001b[32m104.8/104.8 kB\u001b[0m \u001b[31m7.5 MB/s\u001b[0m eta \u001b[36m0:00:00\u001b[0m\n",
            "\u001b[2K   \u001b[90m━━━━━━━━━━━━━━━━━━━━━━━━━━━━━━━━━━━━━━━━\u001b[0m \u001b[32m4.5/4.5 MB\u001b[0m \u001b[31m39.6 MB/s\u001b[0m eta \u001b[36m0:00:00\u001b[0m\n",
            "\u001b[?25h  Building wheel for htmlmin (setup.py) ... \u001b[?25l\u001b[?25hdone\n"
          ]
        }
      ]
    },
    {
      "cell_type": "code",
      "source": [
        "!pip install -U pandas-profiling -q\n"
      ],
      "metadata": {
        "colab": {
          "base_uri": "https://localhost:8080/"
        },
        "id": "GUD0FeiVuMTa",
        "outputId": "d6daea91-174d-4b34-e54f-ea2989f33b10",
        "collapsed": true
      },
      "execution_count": null,
      "outputs": [
        {
          "output_type": "stream",
          "name": "stdout",
          "text": [
            "Requirement already satisfied: pandas-profiling in /usr/local/lib/python3.10/dist-packages (3.6.6)\n",
            "Requirement already satisfied: ydata-profiling in /usr/local/lib/python3.10/dist-packages (from pandas-profiling) (4.12.1)\n",
            "Requirement already satisfied: scipy<1.14,>=1.4.1 in /usr/local/lib/python3.10/dist-packages (from ydata-profiling->pandas-profiling) (1.11.4)\n",
            "Requirement already satisfied: pandas!=1.4.0,<3,>1.1 in /usr/local/lib/python3.10/dist-packages (from ydata-profiling->pandas-profiling) (2.1.4)\n",
            "Requirement already satisfied: matplotlib<3.10,>=3.5 in /usr/local/lib/python3.10/dist-packages (from ydata-profiling->pandas-profiling) (3.7.5)\n",
            "Requirement already satisfied: pydantic>=2 in /usr/local/lib/python3.10/dist-packages (from ydata-profiling->pandas-profiling) (2.10.3)\n",
            "Requirement already satisfied: PyYAML<6.1,>=5.0.0 in /usr/local/lib/python3.10/dist-packages (from ydata-profiling->pandas-profiling) (6.0.2)\n",
            "Requirement already satisfied: jinja2<3.2,>=2.11.1 in /usr/local/lib/python3.10/dist-packages (from ydata-profiling->pandas-profiling) (3.1.4)\n",
            "Requirement already satisfied: visions<0.7.7,>=0.7.5 in /usr/local/lib/python3.10/dist-packages (from visions[type_image_path]<0.7.7,>=0.7.5->ydata-profiling->pandas-profiling) (0.7.6)\n",
            "Requirement already satisfied: numpy<2.2,>=1.16.0 in /usr/local/lib/python3.10/dist-packages (from ydata-profiling->pandas-profiling) (1.26.4)\n",
            "Requirement already satisfied: htmlmin==0.1.12 in /usr/local/lib/python3.10/dist-packages (from ydata-profiling->pandas-profiling) (0.1.12)\n",
            "Requirement already satisfied: phik<0.13,>=0.11.1 in /usr/local/lib/python3.10/dist-packages (from ydata-profiling->pandas-profiling) (0.12.4)\n",
            "Requirement already satisfied: requests<3,>=2.24.0 in /usr/local/lib/python3.10/dist-packages (from ydata-profiling->pandas-profiling) (2.32.3)\n",
            "Requirement already satisfied: tqdm<5,>=4.48.2 in /usr/local/lib/python3.10/dist-packages (from ydata-profiling->pandas-profiling) (4.67.1)\n",
            "Requirement already satisfied: seaborn<0.14,>=0.10.1 in /usr/local/lib/python3.10/dist-packages (from ydata-profiling->pandas-profiling) (0.13.2)\n",
            "Requirement already satisfied: multimethod<2,>=1.4 in /usr/local/lib/python3.10/dist-packages (from ydata-profiling->pandas-profiling) (1.12)\n",
            "Requirement already satisfied: statsmodels<1,>=0.13.2 in /usr/local/lib/python3.10/dist-packages (from ydata-profiling->pandas-profiling) (0.14.4)\n",
            "Requirement already satisfied: typeguard<5,>=3 in /usr/local/lib/python3.10/dist-packages (from ydata-profiling->pandas-profiling) (4.4.1)\n",
            "Requirement already satisfied: imagehash==4.3.1 in /usr/local/lib/python3.10/dist-packages (from ydata-profiling->pandas-profiling) (4.3.1)\n",
            "Requirement already satisfied: wordcloud>=1.9.3 in /usr/local/lib/python3.10/dist-packages (from ydata-profiling->pandas-profiling) (1.9.4)\n",
            "Requirement already satisfied: dacite>=1.8 in /usr/local/lib/python3.10/dist-packages (from ydata-profiling->pandas-profiling) (1.8.1)\n",
            "Requirement already satisfied: numba<1,>=0.56.0 in /usr/local/lib/python3.10/dist-packages (from ydata-profiling->pandas-profiling) (0.60.0)\n",
            "Requirement already satisfied: PyWavelets in /usr/local/lib/python3.10/dist-packages (from imagehash==4.3.1->ydata-profiling->pandas-profiling) (1.8.0)\n",
            "Requirement already satisfied: pillow in /usr/local/lib/python3.10/dist-packages (from imagehash==4.3.1->ydata-profiling->pandas-profiling) (11.0.0)\n",
            "Requirement already satisfied: MarkupSafe>=2.0 in /usr/local/lib/python3.10/dist-packages (from jinja2<3.2,>=2.11.1->ydata-profiling->pandas-profiling) (3.0.2)\n",
            "Requirement already satisfied: contourpy>=1.0.1 in /usr/local/lib/python3.10/dist-packages (from matplotlib<3.10,>=3.5->ydata-profiling->pandas-profiling) (1.3.1)\n",
            "Requirement already satisfied: cycler>=0.10 in /usr/local/lib/python3.10/dist-packages (from matplotlib<3.10,>=3.5->ydata-profiling->pandas-profiling) (0.12.1)\n",
            "Requirement already satisfied: fonttools>=4.22.0 in /usr/local/lib/python3.10/dist-packages (from matplotlib<3.10,>=3.5->ydata-profiling->pandas-profiling) (4.55.3)\n",
            "Requirement already satisfied: kiwisolver>=1.0.1 in /usr/local/lib/python3.10/dist-packages (from matplotlib<3.10,>=3.5->ydata-profiling->pandas-profiling) (1.4.7)\n",
            "Requirement already satisfied: packaging>=20.0 in /usr/local/lib/python3.10/dist-packages (from matplotlib<3.10,>=3.5->ydata-profiling->pandas-profiling) (24.2)\n",
            "Requirement already satisfied: pyparsing>=2.3.1 in /usr/local/lib/python3.10/dist-packages (from matplotlib<3.10,>=3.5->ydata-profiling->pandas-profiling) (3.2.0)\n",
            "Requirement already satisfied: python-dateutil>=2.7 in /usr/local/lib/python3.10/dist-packages (from matplotlib<3.10,>=3.5->ydata-profiling->pandas-profiling) (2.8.2)\n",
            "Requirement already satisfied: llvmlite<0.44,>=0.43.0dev0 in /usr/local/lib/python3.10/dist-packages (from numba<1,>=0.56.0->ydata-profiling->pandas-profiling) (0.43.0)\n",
            "Requirement already satisfied: pytz>=2020.1 in /usr/local/lib/python3.10/dist-packages (from pandas!=1.4.0,<3,>1.1->ydata-profiling->pandas-profiling) (2024.2)\n",
            "Requirement already satisfied: tzdata>=2022.1 in /usr/local/lib/python3.10/dist-packages (from pandas!=1.4.0,<3,>1.1->ydata-profiling->pandas-profiling) (2024.2)\n",
            "Requirement already satisfied: joblib>=0.14.1 in /usr/local/lib/python3.10/dist-packages (from phik<0.13,>=0.11.1->ydata-profiling->pandas-profiling) (1.3.2)\n",
            "Requirement already satisfied: annotated-types>=0.6.0 in /usr/local/lib/python3.10/dist-packages (from pydantic>=2->ydata-profiling->pandas-profiling) (0.7.0)\n",
            "Requirement already satisfied: pydantic-core==2.27.1 in /usr/local/lib/python3.10/dist-packages (from pydantic>=2->ydata-profiling->pandas-profiling) (2.27.1)\n",
            "Requirement already satisfied: typing-extensions>=4.12.2 in /usr/local/lib/python3.10/dist-packages (from pydantic>=2->ydata-profiling->pandas-profiling) (4.12.2)\n",
            "Requirement already satisfied: charset-normalizer<4,>=2 in /usr/local/lib/python3.10/dist-packages (from requests<3,>=2.24.0->ydata-profiling->pandas-profiling) (3.4.0)\n",
            "Requirement already satisfied: idna<4,>=2.5 in /usr/local/lib/python3.10/dist-packages (from requests<3,>=2.24.0->ydata-profiling->pandas-profiling) (3.10)\n",
            "Requirement already satisfied: urllib3<3,>=1.21.1 in /usr/local/lib/python3.10/dist-packages (from requests<3,>=2.24.0->ydata-profiling->pandas-profiling) (2.2.3)\n",
            "Requirement already satisfied: certifi>=2017.4.17 in /usr/local/lib/python3.10/dist-packages (from requests<3,>=2.24.0->ydata-profiling->pandas-profiling) (2024.12.14)\n",
            "Requirement already satisfied: patsy>=0.5.6 in /usr/local/lib/python3.10/dist-packages (from statsmodels<1,>=0.13.2->ydata-profiling->pandas-profiling) (1.0.1)\n",
            "Requirement already satisfied: attrs>=19.3.0 in /usr/local/lib/python3.10/dist-packages (from visions<0.7.7,>=0.7.5->visions[type_image_path]<0.7.7,>=0.7.5->ydata-profiling->pandas-profiling) (24.3.0)\n",
            "Requirement already satisfied: networkx>=2.4 in /usr/local/lib/python3.10/dist-packages (from visions<0.7.7,>=0.7.5->visions[type_image_path]<0.7.7,>=0.7.5->ydata-profiling->pandas-profiling) (3.4.2)\n",
            "Requirement already satisfied: six>=1.5 in /usr/local/lib/python3.10/dist-packages (from python-dateutil>=2.7->matplotlib<3.10,>=3.5->ydata-profiling->pandas-profiling) (1.17.0)\n"
          ]
        }
      ]
    },
    {
      "cell_type": "code",
      "source": [
        "#importando as bibiotecas nescesarias\n",
        "import pandas as pd\n",
        "import numpy as np\n",
        "import matplotlib.pyplot as plt\n",
        "import seaborn as sns\n",
        "from scipy.interpolate import interp1d\n",
        "import pycaret\n",
        "from pycaret.classification import *\n",
        "from sklearn.model_selection import train_test_split\n"
      ],
      "metadata": {
        "id": "tYJiO8WQaSwD"
      },
      "execution_count": null,
      "outputs": []
    },
    {
      "cell_type": "code",
      "source": [
        "# Importando os pacotes necessarios\n",
        "\n",
        "from rich.console import Console\n",
        "from rich import print\n",
        "from rich.panel import Panel\n",
        "from rich.table import Table\n",
        "import kagglehub\n",
        "import os\n",
        "%matplotlib inline"
      ],
      "metadata": {
        "id": "VjPQPzoGK_Li"
      },
      "execution_count": null,
      "outputs": []
    },
    {
      "cell_type": "markdown",
      "source": [
        "No projeto abordado, será utilizada uma fonte de dados do Kaggle. O Kaggle é uma plataforma de ciência de dados que reúne diversas fontes de dados e diferentes cases, criando uma comunidade de profissionais. Os dados que serão tratados são de eletrocardiotocograma."
      ],
      "metadata": {
        "id": "OBKOQbnyaKA_"
      }
    },
    {
      "cell_type": "code",
      "source": [
        "# Certifique-se de que você já tem a chave de API do Kaggle configurada no ambiente\n",
        "# Configurando o diretório para salvar o dataset\n",
        "dataset_path = \"andrewmvd/fetal-health-classification\"\n",
        "output_path = \"./datasets/fetal_health_classification\"\n",
        "\n",
        "# Verifica e cria o diretório de saída, se necessário\n",
        "os.makedirs(output_path, exist_ok=True)\n",
        "\n",
        "# Fazendo o download do dataset usando Kaggle API\n",
        "!kaggle datasets download -d {dataset_path} -p {output_path} --unzip\n",
        "\n",
        "# Lendo o dataset CSV em um DataFrame pandas\n",
        "file_path = os.path.join(output_path, \"fetal_health.csv\")\n",
        "df = pd.read_csv(file_path)\n"
      ],
      "metadata": {
        "colab": {
          "base_uri": "https://localhost:8080/"
        },
        "id": "pibMyAlqLNH9",
        "outputId": "b93c344b-fd5c-4676-f459-3086ce438bd1"
      },
      "execution_count": null,
      "outputs": [
        {
          "output_type": "stream",
          "name": "stdout",
          "text": [
            "Dataset URL: https://www.kaggle.com/datasets/andrewmvd/fetal-health-classification\n",
            "License(s): other\n",
            "Downloading fetal-health-classification.zip to ./datasets/fetal_health_classification\n",
            "  0% 0.00/45.8k [00:00<?, ?B/s]\n",
            "100% 45.8k/45.8k [00:00<00:00, 71.1MB/s]\n"
          ]
        }
      ]
    },
    {
      "cell_type": "markdown",
      "source": [
        "# Análise Exploratória\n",
        "Após a extração dos dados, a próxima etapa do projeto é a análise exploratória. Esse processo consiste em examinar e entender a composição dos dados, com o objetivo de identificar padrões, inconsistências, valores ausentes ou discrepantes, e outras características relevantes. A análise exploratória é uma fase crucial, pois permite ganhar uma visão inicial do conjunto de dados, facilitando a identificação de potenciais problemas e oportunidades para melhorias.\n",
        "\n",
        "Durante a análise exploratória, são aplicadas diversas técnicas, como visualizações gráficas (por exemplo, histogramas, boxplots e scatter plots) e estatísticas descritivas (como médias, medianas, desvios padrão, etc.), para entender melhor a distribuição dos dados e as relações entre as variáveis. Além disso, são realizadas verificações para garantir que os dados estão limpos e prontos para a fase de modelagem.\n",
        "\n",
        "Após essa exploração inicial, realiza-se o tratamento de dados, que inclui a remoção ou correção de dados faltantes, a normalização de variáveis e a transformação de atributos, quando necessário. Esse processo de preparação é essencial para garantir que os dados estejam adequadamente estruturados para a construção de modelos de machine learning mais precisos e eficientes."
      ],
      "metadata": {
        "id": "QmbVP1hPbTpt"
      }
    },
    {
      "cell_type": "code",
      "source": [
        "#Primeiras 5 linhas do data frame\n",
        "df.head()\n"
      ],
      "metadata": {
        "colab": {
          "base_uri": "https://localhost:8080/",
          "height": 273
        },
        "id": "GZwohrXoLR-7",
        "outputId": "b125391f-681e-4bea-a09c-e9a44ff7bbda"
      },
      "execution_count": null,
      "outputs": [
        {
          "output_type": "execute_result",
          "data": {
            "text/plain": [
              "   baseline value  accelerations  fetal_movement  uterine_contractions  \\\n",
              "0           120.0          0.000             0.0                 0.000   \n",
              "1           132.0          0.006             0.0                 0.006   \n",
              "2           133.0          0.003             0.0                 0.008   \n",
              "3           134.0          0.003             0.0                 0.008   \n",
              "4           132.0          0.007             0.0                 0.008   \n",
              "\n",
              "   light_decelerations  severe_decelerations  prolongued_decelerations  \\\n",
              "0                0.000                   0.0                       0.0   \n",
              "1                0.003                   0.0                       0.0   \n",
              "2                0.003                   0.0                       0.0   \n",
              "3                0.003                   0.0                       0.0   \n",
              "4                0.000                   0.0                       0.0   \n",
              "\n",
              "   abnormal_short_term_variability  mean_value_of_short_term_variability  \\\n",
              "0                             73.0                                   0.5   \n",
              "1                             17.0                                   2.1   \n",
              "2                             16.0                                   2.1   \n",
              "3                             16.0                                   2.4   \n",
              "4                             16.0                                   2.4   \n",
              "\n",
              "   percentage_of_time_with_abnormal_long_term_variability  ...  histogram_min  \\\n",
              "0                                               43.0       ...           62.0   \n",
              "1                                                0.0       ...           68.0   \n",
              "2                                                0.0       ...           68.0   \n",
              "3                                                0.0       ...           53.0   \n",
              "4                                                0.0       ...           53.0   \n",
              "\n",
              "   histogram_max  histogram_number_of_peaks  histogram_number_of_zeroes  \\\n",
              "0          126.0                        2.0                         0.0   \n",
              "1          198.0                        6.0                         1.0   \n",
              "2          198.0                        5.0                         1.0   \n",
              "3          170.0                       11.0                         0.0   \n",
              "4          170.0                        9.0                         0.0   \n",
              "\n",
              "   histogram_mode  histogram_mean  histogram_median  histogram_variance  \\\n",
              "0           120.0           137.0             121.0                73.0   \n",
              "1           141.0           136.0             140.0                12.0   \n",
              "2           141.0           135.0             138.0                13.0   \n",
              "3           137.0           134.0             137.0                13.0   \n",
              "4           137.0           136.0             138.0                11.0   \n",
              "\n",
              "   histogram_tendency  fetal_health  \n",
              "0                 1.0           2.0  \n",
              "1                 0.0           1.0  \n",
              "2                 0.0           1.0  \n",
              "3                 1.0           1.0  \n",
              "4                 1.0           1.0  \n",
              "\n",
              "[5 rows x 22 columns]"
            ],
            "text/html": [
              "\n",
              "  <div id=\"df-29a1ae57-b9cf-4693-8aa5-9314b8be621b\" class=\"colab-df-container\">\n",
              "    <div>\n",
              "<style scoped>\n",
              "    .dataframe tbody tr th:only-of-type {\n",
              "        vertical-align: middle;\n",
              "    }\n",
              "\n",
              "    .dataframe tbody tr th {\n",
              "        vertical-align: top;\n",
              "    }\n",
              "\n",
              "    .dataframe thead th {\n",
              "        text-align: right;\n",
              "    }\n",
              "</style>\n",
              "<table border=\"1\" class=\"dataframe\">\n",
              "  <thead>\n",
              "    <tr style=\"text-align: right;\">\n",
              "      <th></th>\n",
              "      <th>baseline value</th>\n",
              "      <th>accelerations</th>\n",
              "      <th>fetal_movement</th>\n",
              "      <th>uterine_contractions</th>\n",
              "      <th>light_decelerations</th>\n",
              "      <th>severe_decelerations</th>\n",
              "      <th>prolongued_decelerations</th>\n",
              "      <th>abnormal_short_term_variability</th>\n",
              "      <th>mean_value_of_short_term_variability</th>\n",
              "      <th>percentage_of_time_with_abnormal_long_term_variability</th>\n",
              "      <th>...</th>\n",
              "      <th>histogram_min</th>\n",
              "      <th>histogram_max</th>\n",
              "      <th>histogram_number_of_peaks</th>\n",
              "      <th>histogram_number_of_zeroes</th>\n",
              "      <th>histogram_mode</th>\n",
              "      <th>histogram_mean</th>\n",
              "      <th>histogram_median</th>\n",
              "      <th>histogram_variance</th>\n",
              "      <th>histogram_tendency</th>\n",
              "      <th>fetal_health</th>\n",
              "    </tr>\n",
              "  </thead>\n",
              "  <tbody>\n",
              "    <tr>\n",
              "      <th>0</th>\n",
              "      <td>120.0</td>\n",
              "      <td>0.000</td>\n",
              "      <td>0.0</td>\n",
              "      <td>0.000</td>\n",
              "      <td>0.000</td>\n",
              "      <td>0.0</td>\n",
              "      <td>0.0</td>\n",
              "      <td>73.0</td>\n",
              "      <td>0.5</td>\n",
              "      <td>43.0</td>\n",
              "      <td>...</td>\n",
              "      <td>62.0</td>\n",
              "      <td>126.0</td>\n",
              "      <td>2.0</td>\n",
              "      <td>0.0</td>\n",
              "      <td>120.0</td>\n",
              "      <td>137.0</td>\n",
              "      <td>121.0</td>\n",
              "      <td>73.0</td>\n",
              "      <td>1.0</td>\n",
              "      <td>2.0</td>\n",
              "    </tr>\n",
              "    <tr>\n",
              "      <th>1</th>\n",
              "      <td>132.0</td>\n",
              "      <td>0.006</td>\n",
              "      <td>0.0</td>\n",
              "      <td>0.006</td>\n",
              "      <td>0.003</td>\n",
              "      <td>0.0</td>\n",
              "      <td>0.0</td>\n",
              "      <td>17.0</td>\n",
              "      <td>2.1</td>\n",
              "      <td>0.0</td>\n",
              "      <td>...</td>\n",
              "      <td>68.0</td>\n",
              "      <td>198.0</td>\n",
              "      <td>6.0</td>\n",
              "      <td>1.0</td>\n",
              "      <td>141.0</td>\n",
              "      <td>136.0</td>\n",
              "      <td>140.0</td>\n",
              "      <td>12.0</td>\n",
              "      <td>0.0</td>\n",
              "      <td>1.0</td>\n",
              "    </tr>\n",
              "    <tr>\n",
              "      <th>2</th>\n",
              "      <td>133.0</td>\n",
              "      <td>0.003</td>\n",
              "      <td>0.0</td>\n",
              "      <td>0.008</td>\n",
              "      <td>0.003</td>\n",
              "      <td>0.0</td>\n",
              "      <td>0.0</td>\n",
              "      <td>16.0</td>\n",
              "      <td>2.1</td>\n",
              "      <td>0.0</td>\n",
              "      <td>...</td>\n",
              "      <td>68.0</td>\n",
              "      <td>198.0</td>\n",
              "      <td>5.0</td>\n",
              "      <td>1.0</td>\n",
              "      <td>141.0</td>\n",
              "      <td>135.0</td>\n",
              "      <td>138.0</td>\n",
              "      <td>13.0</td>\n",
              "      <td>0.0</td>\n",
              "      <td>1.0</td>\n",
              "    </tr>\n",
              "    <tr>\n",
              "      <th>3</th>\n",
              "      <td>134.0</td>\n",
              "      <td>0.003</td>\n",
              "      <td>0.0</td>\n",
              "      <td>0.008</td>\n",
              "      <td>0.003</td>\n",
              "      <td>0.0</td>\n",
              "      <td>0.0</td>\n",
              "      <td>16.0</td>\n",
              "      <td>2.4</td>\n",
              "      <td>0.0</td>\n",
              "      <td>...</td>\n",
              "      <td>53.0</td>\n",
              "      <td>170.0</td>\n",
              "      <td>11.0</td>\n",
              "      <td>0.0</td>\n",
              "      <td>137.0</td>\n",
              "      <td>134.0</td>\n",
              "      <td>137.0</td>\n",
              "      <td>13.0</td>\n",
              "      <td>1.0</td>\n",
              "      <td>1.0</td>\n",
              "    </tr>\n",
              "    <tr>\n",
              "      <th>4</th>\n",
              "      <td>132.0</td>\n",
              "      <td>0.007</td>\n",
              "      <td>0.0</td>\n",
              "      <td>0.008</td>\n",
              "      <td>0.000</td>\n",
              "      <td>0.0</td>\n",
              "      <td>0.0</td>\n",
              "      <td>16.0</td>\n",
              "      <td>2.4</td>\n",
              "      <td>0.0</td>\n",
              "      <td>...</td>\n",
              "      <td>53.0</td>\n",
              "      <td>170.0</td>\n",
              "      <td>9.0</td>\n",
              "      <td>0.0</td>\n",
              "      <td>137.0</td>\n",
              "      <td>136.0</td>\n",
              "      <td>138.0</td>\n",
              "      <td>11.0</td>\n",
              "      <td>1.0</td>\n",
              "      <td>1.0</td>\n",
              "    </tr>\n",
              "  </tbody>\n",
              "</table>\n",
              "<p>5 rows × 22 columns</p>\n",
              "</div>\n",
              "    <div class=\"colab-df-buttons\">\n",
              "\n",
              "  <div class=\"colab-df-container\">\n",
              "    <button class=\"colab-df-convert\" onclick=\"convertToInteractive('df-29a1ae57-b9cf-4693-8aa5-9314b8be621b')\"\n",
              "            title=\"Convert this dataframe to an interactive table.\"\n",
              "            style=\"display:none;\">\n",
              "\n",
              "  <svg xmlns=\"http://www.w3.org/2000/svg\" height=\"24px\" viewBox=\"0 -960 960 960\">\n",
              "    <path d=\"M120-120v-720h720v720H120Zm60-500h600v-160H180v160Zm220 220h160v-160H400v160Zm0 220h160v-160H400v160ZM180-400h160v-160H180v160Zm440 0h160v-160H620v160ZM180-180h160v-160H180v160Zm440 0h160v-160H620v160Z\"/>\n",
              "  </svg>\n",
              "    </button>\n",
              "\n",
              "  <style>\n",
              "    .colab-df-container {\n",
              "      display:flex;\n",
              "      gap: 12px;\n",
              "    }\n",
              "\n",
              "    .colab-df-convert {\n",
              "      background-color: #E8F0FE;\n",
              "      border: none;\n",
              "      border-radius: 50%;\n",
              "      cursor: pointer;\n",
              "      display: none;\n",
              "      fill: #1967D2;\n",
              "      height: 32px;\n",
              "      padding: 0 0 0 0;\n",
              "      width: 32px;\n",
              "    }\n",
              "\n",
              "    .colab-df-convert:hover {\n",
              "      background-color: #E2EBFA;\n",
              "      box-shadow: 0px 1px 2px rgba(60, 64, 67, 0.3), 0px 1px 3px 1px rgba(60, 64, 67, 0.15);\n",
              "      fill: #174EA6;\n",
              "    }\n",
              "\n",
              "    .colab-df-buttons div {\n",
              "      margin-bottom: 4px;\n",
              "    }\n",
              "\n",
              "    [theme=dark] .colab-df-convert {\n",
              "      background-color: #3B4455;\n",
              "      fill: #D2E3FC;\n",
              "    }\n",
              "\n",
              "    [theme=dark] .colab-df-convert:hover {\n",
              "      background-color: #434B5C;\n",
              "      box-shadow: 0px 1px 3px 1px rgba(0, 0, 0, 0.15);\n",
              "      filter: drop-shadow(0px 1px 2px rgba(0, 0, 0, 0.3));\n",
              "      fill: #FFFFFF;\n",
              "    }\n",
              "  </style>\n",
              "\n",
              "    <script>\n",
              "      const buttonEl =\n",
              "        document.querySelector('#df-29a1ae57-b9cf-4693-8aa5-9314b8be621b button.colab-df-convert');\n",
              "      buttonEl.style.display =\n",
              "        google.colab.kernel.accessAllowed ? 'block' : 'none';\n",
              "\n",
              "      async function convertToInteractive(key) {\n",
              "        const element = document.querySelector('#df-29a1ae57-b9cf-4693-8aa5-9314b8be621b');\n",
              "        const dataTable =\n",
              "          await google.colab.kernel.invokeFunction('convertToInteractive',\n",
              "                                                    [key], {});\n",
              "        if (!dataTable) return;\n",
              "\n",
              "        const docLinkHtml = 'Like what you see? Visit the ' +\n",
              "          '<a target=\"_blank\" href=https://colab.research.google.com/notebooks/data_table.ipynb>data table notebook</a>'\n",
              "          + ' to learn more about interactive tables.';\n",
              "        element.innerHTML = '';\n",
              "        dataTable['output_type'] = 'display_data';\n",
              "        await google.colab.output.renderOutput(dataTable, element);\n",
              "        const docLink = document.createElement('div');\n",
              "        docLink.innerHTML = docLinkHtml;\n",
              "        element.appendChild(docLink);\n",
              "      }\n",
              "    </script>\n",
              "  </div>\n",
              "\n",
              "\n",
              "<div id=\"df-4e4b695d-b6ab-4c62-bea9-1710986283f7\">\n",
              "  <button class=\"colab-df-quickchart\" onclick=\"quickchart('df-4e4b695d-b6ab-4c62-bea9-1710986283f7')\"\n",
              "            title=\"Suggest charts\"\n",
              "            style=\"display:none;\">\n",
              "\n",
              "<svg xmlns=\"http://www.w3.org/2000/svg\" height=\"24px\"viewBox=\"0 0 24 24\"\n",
              "     width=\"24px\">\n",
              "    <g>\n",
              "        <path d=\"M19 3H5c-1.1 0-2 .9-2 2v14c0 1.1.9 2 2 2h14c1.1 0 2-.9 2-2V5c0-1.1-.9-2-2-2zM9 17H7v-7h2v7zm4 0h-2V7h2v10zm4 0h-2v-4h2v4z\"/>\n",
              "    </g>\n",
              "</svg>\n",
              "  </button>\n",
              "\n",
              "<style>\n",
              "  .colab-df-quickchart {\n",
              "      --bg-color: #E8F0FE;\n",
              "      --fill-color: #1967D2;\n",
              "      --hover-bg-color: #E2EBFA;\n",
              "      --hover-fill-color: #174EA6;\n",
              "      --disabled-fill-color: #AAA;\n",
              "      --disabled-bg-color: #DDD;\n",
              "  }\n",
              "\n",
              "  [theme=dark] .colab-df-quickchart {\n",
              "      --bg-color: #3B4455;\n",
              "      --fill-color: #D2E3FC;\n",
              "      --hover-bg-color: #434B5C;\n",
              "      --hover-fill-color: #FFFFFF;\n",
              "      --disabled-bg-color: #3B4455;\n",
              "      --disabled-fill-color: #666;\n",
              "  }\n",
              "\n",
              "  .colab-df-quickchart {\n",
              "    background-color: var(--bg-color);\n",
              "    border: none;\n",
              "    border-radius: 50%;\n",
              "    cursor: pointer;\n",
              "    display: none;\n",
              "    fill: var(--fill-color);\n",
              "    height: 32px;\n",
              "    padding: 0;\n",
              "    width: 32px;\n",
              "  }\n",
              "\n",
              "  .colab-df-quickchart:hover {\n",
              "    background-color: var(--hover-bg-color);\n",
              "    box-shadow: 0 1px 2px rgba(60, 64, 67, 0.3), 0 1px 3px 1px rgba(60, 64, 67, 0.15);\n",
              "    fill: var(--button-hover-fill-color);\n",
              "  }\n",
              "\n",
              "  .colab-df-quickchart-complete:disabled,\n",
              "  .colab-df-quickchart-complete:disabled:hover {\n",
              "    background-color: var(--disabled-bg-color);\n",
              "    fill: var(--disabled-fill-color);\n",
              "    box-shadow: none;\n",
              "  }\n",
              "\n",
              "  .colab-df-spinner {\n",
              "    border: 2px solid var(--fill-color);\n",
              "    border-color: transparent;\n",
              "    border-bottom-color: var(--fill-color);\n",
              "    animation:\n",
              "      spin 1s steps(1) infinite;\n",
              "  }\n",
              "\n",
              "  @keyframes spin {\n",
              "    0% {\n",
              "      border-color: transparent;\n",
              "      border-bottom-color: var(--fill-color);\n",
              "      border-left-color: var(--fill-color);\n",
              "    }\n",
              "    20% {\n",
              "      border-color: transparent;\n",
              "      border-left-color: var(--fill-color);\n",
              "      border-top-color: var(--fill-color);\n",
              "    }\n",
              "    30% {\n",
              "      border-color: transparent;\n",
              "      border-left-color: var(--fill-color);\n",
              "      border-top-color: var(--fill-color);\n",
              "      border-right-color: var(--fill-color);\n",
              "    }\n",
              "    40% {\n",
              "      border-color: transparent;\n",
              "      border-right-color: var(--fill-color);\n",
              "      border-top-color: var(--fill-color);\n",
              "    }\n",
              "    60% {\n",
              "      border-color: transparent;\n",
              "      border-right-color: var(--fill-color);\n",
              "    }\n",
              "    80% {\n",
              "      border-color: transparent;\n",
              "      border-right-color: var(--fill-color);\n",
              "      border-bottom-color: var(--fill-color);\n",
              "    }\n",
              "    90% {\n",
              "      border-color: transparent;\n",
              "      border-bottom-color: var(--fill-color);\n",
              "    }\n",
              "  }\n",
              "</style>\n",
              "\n",
              "  <script>\n",
              "    async function quickchart(key) {\n",
              "      const quickchartButtonEl =\n",
              "        document.querySelector('#' + key + ' button');\n",
              "      quickchartButtonEl.disabled = true;  // To prevent multiple clicks.\n",
              "      quickchartButtonEl.classList.add('colab-df-spinner');\n",
              "      try {\n",
              "        const charts = await google.colab.kernel.invokeFunction(\n",
              "            'suggestCharts', [key], {});\n",
              "      } catch (error) {\n",
              "        console.error('Error during call to suggestCharts:', error);\n",
              "      }\n",
              "      quickchartButtonEl.classList.remove('colab-df-spinner');\n",
              "      quickchartButtonEl.classList.add('colab-df-quickchart-complete');\n",
              "    }\n",
              "    (() => {\n",
              "      let quickchartButtonEl =\n",
              "        document.querySelector('#df-4e4b695d-b6ab-4c62-bea9-1710986283f7 button');\n",
              "      quickchartButtonEl.style.display =\n",
              "        google.colab.kernel.accessAllowed ? 'block' : 'none';\n",
              "    })();\n",
              "  </script>\n",
              "</div>\n",
              "\n",
              "    </div>\n",
              "  </div>\n"
            ],
            "application/vnd.google.colaboratory.intrinsic+json": {
              "type": "dataframe",
              "variable_name": "df"
            }
          },
          "metadata": {},
          "execution_count": 11
        }
      ]
    },
    {
      "cell_type": "markdown",
      "source": [
        "# Dicionário de Variaveis\n",
        "\n",
        "**Um guia que fornece descrições conceituais de cada variável em nosso conjunto de dados.**\n",
        "\n",
        "baseline value:a frequência cardíaca fetal (FCF);\n",
        "\n",
        "accelerations: Número de acelerações por segundo;\n",
        "\n",
        "fetal_movement: Número de movimentos fetais por segundo;\n",
        "\n",
        "uterine_contractions: Número de contrações uterinas por segundo;\n",
        "\n",
        "light_decelerations: Número de desacelerações leves por segundo;\n",
        "\n",
        "severe_decelerations: Número de desacelerações severas por segundo;\n",
        "\n",
        "prolongued_decelerations: Número de desacelerações prolongadas por segundo;\n",
        "\n",
        "abnormal_short: Porcentagem de tempo com variabilidade anormal de curto prazo;\n",
        "\n",
        "mean_value_of_short_term_variability:Valor médio da variabilidade de curto prazo;\n",
        "\n",
        "percentage_of_time:Porcentagem de tempo com variabilidade anormal de longo prazo;\n",
        "\n",
        "mean_value_of_long: Valor médio da variabilidade de longo prazo;\n",
        "\n",
        "histogram_width: Largura do histograma feito usando todos os valores de um registro;\n",
        "\n",
        "histogram_min:O valor mínimo da FCF no histograma;\n",
        "\n",
        "histogram_max: O valor maximo da FCF no histograma;\n",
        "\n",
        "histogram_number_of_peaks:o número de picos distintos no histograma da FCF;\n",
        "\n",
        "histogram_number_of_zeroes: o número de vezes que a FCF chega a zero no histograma.\n",
        "\n",
        "histogram_mode: o valor mais comum no histograma da FCF;\n",
        "\n",
        "histogram_mean: o valor médio da FCF no histograma.\n",
        "\n",
        "histogram_median: o valor mediano da FCF no histograma.\n",
        "\n",
        "histogram_variance: uma medida da dispersão da distribuição da FCF no histograma.\n",
        "\n",
        "histogram_tendency : uma medida da dispersão da distribuição da FCF no histograma.\n",
        "\n",
        "fetal_health: saúde fetal (1 — normal; 2 — Suspeito; 3 — Patológico).\n",
        "\n"
      ],
      "metadata": {
        "id": "mpEkhFWkLU1T"
      }
    },
    {
      "cell_type": "markdown",
      "source": [
        "Dados nulos impactam diretamente a performance dos modelos. Verificar o tipo de cada variável e identificar a presença de dados nulos no conjunto de dados é de extrema importância. Essa etapa é fundamental para garantir que os dados estejam completos e prontos para serem utilizados de forma eficiente na construção dos modelos."
      ],
      "metadata": {
        "id": "XXIlqPgUdO5q"
      }
    },
    {
      "cell_type": "code",
      "source": [
        "\n",
        "table =  Table(title='Informações das Variáveis')\n",
        "table.add_column('Variable_name', justify='center')\n",
        "table.add_column('Data_type', justify='center')\n",
        "table.add_column('Unique_value', justify='center')\n",
        "table.add_column('Missing_percentage', justify='center')\n",
        "for column in df.columns:\n",
        "  table.add_row(f'{column}', f'{df[column].dtypes}',\n",
        "                f'{len(df[column].unique())}',\n",
        "                f'{(df[column].isnull().sum())*100}')\n"
      ],
      "metadata": {
        "id": "4ADHcXueLbQH"
      },
      "execution_count": null,
      "outputs": []
    },
    {
      "cell_type": "code",
      "source": [
        "table"
      ],
      "metadata": {
        "colab": {
          "base_uri": "https://localhost:8080/",
          "height": 449
        },
        "id": "v5CN3HLJLcy3",
        "outputId": "91260eb6-40af-4123-8c60-2afcc8485d22"
      },
      "execution_count": null,
      "outputs": [
        {
          "output_type": "execute_result",
          "data": {
            "text/plain": [
              "\u001b[3m                                        Informações das Variáveis                                         \u001b[0m\n",
              "┏━━━━━━━━━━━━━━━━━━━━━━━━━━━━━━━━━━━━━━━━━━━━━━━━━━━━━━━━┳━━━━━━━━━━━┳━━━━━━━━━━━━━━┳━━━━━━━━━━━━━━━━━━━━┓\n",
              "┃\u001b[1m \u001b[0m\u001b[1m                    Variable_name                     \u001b[0m\u001b[1m \u001b[0m┃\u001b[1m \u001b[0m\u001b[1mData_type\u001b[0m\u001b[1m \u001b[0m┃\u001b[1m \u001b[0m\u001b[1mUnique_value\u001b[0m\u001b[1m \u001b[0m┃\u001b[1m \u001b[0m\u001b[1mMissing_percentage\u001b[0m\u001b[1m \u001b[0m┃\n",
              "┡━━━━━━━━━━━━━━━━━━━━━━━━━━━━━━━━━━━━━━━━━━━━━━━━━━━━━━━━╇━━━━━━━━━━━╇━━━━━━━━━━━━━━╇━━━━━━━━━━━━━━━━━━━━┩\n",
              "│                     baseline value                     │  float64  │      48      │         0          │\n",
              "│                     accelerations                      │  float64  │      20      │         0          │\n",
              "│                     fetal_movement                     │  float64  │     102      │         0          │\n",
              "│                  uterine_contractions                  │  float64  │      16      │         0          │\n",
              "│                  light_decelerations                   │  float64  │      16      │         0          │\n",
              "│                  severe_decelerations                  │  float64  │      2       │         0          │\n",
              "│                prolongued_decelerations                │  float64  │      6       │         0          │\n",
              "│            abnormal_short_term_variability             │  float64  │      75      │         0          │\n",
              "│          mean_value_of_short_term_variability          │  float64  │      57      │         0          │\n",
              "│ percentage_of_time_with_abnormal_long_term_variability │  float64  │      87      │         0          │\n",
              "│          mean_value_of_long_term_variability           │  float64  │     249      │         0          │\n",
              "│                    histogram_width                     │  float64  │     154      │         0          │\n",
              "│                     histogram_min                      │  float64  │     109      │         0          │\n",
              "│                     histogram_max                      │  float64  │      86      │         0          │\n",
              "│               histogram_number_of_peaks                │  float64  │      18      │         0          │\n",
              "│               histogram_number_of_zeroes               │  float64  │      9       │         0          │\n",
              "│                     histogram_mode                     │  float64  │      88      │         0          │\n",
              "│                     histogram_mean                     │  float64  │     103      │         0          │\n",
              "│                    histogram_median                    │  float64  │      95      │         0          │\n",
              "│                   histogram_variance                   │  float64  │     133      │         0          │\n",
              "│                   histogram_tendency                   │  float64  │      3       │         0          │\n",
              "│                      fetal_health                      │  float64  │      3       │         0          │\n",
              "└────────────────────────────────────────────────────────┴───────────┴──────────────┴────────────────────┘\n"
            ],
            "text/html": [
              "<pre style=\"white-space:pre;overflow-x:auto;line-height:normal;font-family:Menlo,'DejaVu Sans Mono',consolas,'Courier New',monospace\"><span style=\"font-style: italic\">                                        Informações das Variáveis                                         </span>\n",
              "┏━━━━━━━━━━━━━━━━━━━━━━━━━━━━━━━━━━━━━━━━━━━━━━━━━━━━━━━━┳━━━━━━━━━━━┳━━━━━━━━━━━━━━┳━━━━━━━━━━━━━━━━━━━━┓\n",
              "┃<span style=\"font-weight: bold\">                     Variable_name                      </span>┃<span style=\"font-weight: bold\"> Data_type </span>┃<span style=\"font-weight: bold\"> Unique_value </span>┃<span style=\"font-weight: bold\"> Missing_percentage </span>┃\n",
              "┡━━━━━━━━━━━━━━━━━━━━━━━━━━━━━━━━━━━━━━━━━━━━━━━━━━━━━━━━╇━━━━━━━━━━━╇━━━━━━━━━━━━━━╇━━━━━━━━━━━━━━━━━━━━┩\n",
              "│                     baseline value                     │  float64  │      48      │         0          │\n",
              "│                     accelerations                      │  float64  │      20      │         0          │\n",
              "│                     fetal_movement                     │  float64  │     102      │         0          │\n",
              "│                  uterine_contractions                  │  float64  │      16      │         0          │\n",
              "│                  light_decelerations                   │  float64  │      16      │         0          │\n",
              "│                  severe_decelerations                  │  float64  │      2       │         0          │\n",
              "│                prolongued_decelerations                │  float64  │      6       │         0          │\n",
              "│            abnormal_short_term_variability             │  float64  │      75      │         0          │\n",
              "│          mean_value_of_short_term_variability          │  float64  │      57      │         0          │\n",
              "│ percentage_of_time_with_abnormal_long_term_variability │  float64  │      87      │         0          │\n",
              "│          mean_value_of_long_term_variability           │  float64  │     249      │         0          │\n",
              "│                    histogram_width                     │  float64  │     154      │         0          │\n",
              "│                     histogram_min                      │  float64  │     109      │         0          │\n",
              "│                     histogram_max                      │  float64  │      86      │         0          │\n",
              "│               histogram_number_of_peaks                │  float64  │      18      │         0          │\n",
              "│               histogram_number_of_zeroes               │  float64  │      9       │         0          │\n",
              "│                     histogram_mode                     │  float64  │      88      │         0          │\n",
              "│                     histogram_mean                     │  float64  │     103      │         0          │\n",
              "│                    histogram_median                    │  float64  │      95      │         0          │\n",
              "│                   histogram_variance                   │  float64  │     133      │         0          │\n",
              "│                   histogram_tendency                   │  float64  │      3       │         0          │\n",
              "│                      fetal_health                      │  float64  │      3       │         0          │\n",
              "└────────────────────────────────────────────────────────┴───────────┴──────────────┴────────────────────┘\n",
              "</pre>\n"
            ]
          },
          "metadata": {},
          "execution_count": 13
        }
      ]
    },
    {
      "cell_type": "code",
      "source": [
        "# Calculando as porcentagens das categorias em 'fetal_health'\n",
        "normal = (df.fetal_health.value_counts(normalize=True) * 100).values[0]\n",
        "suspicious = (df.fetal_health.value_counts(normalize=True) * 100).values[1]\n",
        "pathological = (df.fetal_health.value_counts(normalize=True) * 100).values[2]\n",
        "\n",
        "# Exibindo o resultado de forma mais clara\n",
        "print(f\"Total de registros por categoria: \"\n",
        "      f\"Normal: {round(normal, 2)}%, \"\n",
        "      f\"Suspeito: {round(suspicious, 2)}%, \"\n",
        "      f\"Patológico: {round(pathological, 2)}%\")"
      ],
      "metadata": {
        "colab": {
          "base_uri": "https://localhost:8080/",
          "height": 33
        },
        "id": "QcFUbdUNLf-B",
        "outputId": "5ec942d5-49d4-4916-aeb8-45209245ef6c"
      },
      "execution_count": null,
      "outputs": [
        {
          "output_type": "display_data",
          "data": {
            "text/plain": [
              "Total de registros por categoria: Normal: \u001b[1;36m77.85\u001b[0m%, Suspeito: \u001b[1;36m13.88\u001b[0m%, Patológico: \u001b[1;36m8.28\u001b[0m%\n"
            ],
            "text/html": [
              "<pre style=\"white-space:pre;overflow-x:auto;line-height:normal;font-family:Menlo,'DejaVu Sans Mono',consolas,'Courier New',monospace\">Total de registros por categoria: Normal: <span style=\"color: #008080; text-decoration-color: #008080; font-weight: bold\">77.85</span>%, Suspeito: <span style=\"color: #008080; text-decoration-color: #008080; font-weight: bold\">13.88</span>%, Patológico: <span style=\"color: #008080; text-decoration-color: #008080; font-weight: bold\">8.28</span>%\n",
              "</pre>\n"
            ]
          },
          "metadata": {}
        }
      ]
    },
    {
      "cell_type": "code",
      "source": [
        "fig, ax = plt.subplots(figsize=(10, 6))\n",
        "names = ['Normal', 'Suspeito', 'Patológico']\n",
        "sns.countplot(x='fetal_health', data=df, palette='Blues', ax=ax)\n",
        "ax.set_xticklabels(names)\n",
        "plt.show()clf = setup(data=train, target='target')\n"
      ],
      "metadata": {
        "colab": {
          "base_uri": "https://localhost:8080/",
          "height": 542
        },
        "id": "vmPdDXfxLkXG",
        "outputId": "732089fb-2c2d-4fb0-9b29-23be81dbaf04"
      },
      "execution_count": null,
      "outputs": [
        {
          "output_type": "display_data",
          "data": {
            "text/plain": [
              "<Figure size 1000x600 with 1 Axes>"
            ],
            "image/png": "[encoded data removed]"
          },
          "metadata": {}
        }
      ]
    },
    {
      "cell_type": "markdown",
      "source": [
        "Com o gráfico acima, é possível observar uma disparidade na distribuição das classificações. Um DataFrame desbalanceado em relação ao target pode impactar a forma como o modelo lida com os dados durante a fase de previsão."
      ],
      "metadata": {
        "id": "OGpgxSrdeRLw"
      }
    },
    {
      "cell_type": "code",
      "source": [
        "df.describe()\n"
      ],
      "metadata": {
        "colab": {
          "base_uri": "https://localhost:8080/",
          "height": 367
        },
        "id": "IP-XIir3LsRb",
        "outputId": "352a445a-db0b-4f16-f441-7c50c46d7348"
      },
      "execution_count": null,
      "outputs": [
        {
          "output_type": "execute_result",
          "data": {
            "text/plain": [
              "       baseline value  accelerations  fetal_movement  uterine_contractions  \\\n",
              "count     2126.000000    2126.000000     2126.000000           2126.000000   \n",
              "mean       133.303857       0.003178        0.009481              0.004366   \n",
              "std          9.840844       0.003866        0.046666              0.002946   \n",
              "min        106.000000       0.000000        0.000000              0.000000   \n",
              "25%        126.000000       0.000000        0.000000              0.002000   \n",
              "50%        133.000000       0.002000        0.000000              0.004000   \n",
              "75%        140.000000       0.006000        0.003000              0.007000   \n",
              "max        160.000000       0.019000        0.481000              0.015000   \n",
              "\n",
              "       light_decelerations  severe_decelerations  prolongued_decelerations  \\\n",
              "count          2126.000000           2126.000000               2126.000000   \n",
              "mean              0.001889              0.000003                  0.000159   \n",
              "std               0.002960              0.000057                  0.000590   \n",
              "min               0.000000              0.000000                  0.000000   \n",
              "25%               0.000000              0.000000                  0.000000   \n",
              "50%               0.000000              0.000000                  0.000000   \n",
              "75%               0.003000              0.000000                  0.000000   \n",
              "max               0.015000              0.001000                  0.005000   \n",
              "\n",
              "       abnormal_short_term_variability  mean_value_of_short_term_variability  \\\n",
              "count                      2126.000000                           2126.000000   \n",
              "mean                         46.990122                              1.332785   \n",
              "std                          17.192814                              0.883241   \n",
              "min                          12.000000                              0.200000   \n",
              "25%                          32.000000                              0.700000   \n",
              "50%                          49.000000                              1.200000   \n",
              "75%                          61.000000                              1.700000   \n",
              "max                          87.000000                              7.000000   \n",
              "\n",
              "       percentage_of_time_with_abnormal_long_term_variability  ...  \\\n",
              "count                                         2126.00000       ...   \n",
              "mean                                             9.84666       ...   \n",
              "std                                             18.39688       ...   \n",
              "min                                              0.00000       ...   \n",
              "25%                                              0.00000       ...   \n",
              "50%                                              0.00000       ...   \n",
              "75%                                             11.00000       ...   \n",
              "max                                             91.00000       ...   \n",
              "\n",
              "       histogram_min  histogram_max  histogram_number_of_peaks  \\\n",
              "count    2126.000000    2126.000000                2126.000000   \n",
              "mean       93.579492     164.025400                   4.068203   \n",
              "std        29.560212      17.944183                   2.949386   \n",
              "min        50.000000     122.000000                   0.000000   \n",
              "25%        67.000000     152.000000                   2.000000   \n",
              "50%        93.000000     162.000000                   3.000000   \n",
              "75%       120.000000     174.000000                   6.000000   \n",
              "max       159.000000     238.000000                  18.000000   \n",
              "\n",
              "       histogram_number_of_zeroes  histogram_mode  histogram_mean  \\\n",
              "count                 2126.000000     2126.000000     2126.000000   \n",
              "mean                     0.323612      137.452023      134.610536   \n",
              "std                      0.706059       16.381289       15.593596   \n",
              "min                      0.000000       60.000000       73.000000   \n",
              "25%                      0.000000      129.000000      125.000000   \n",
              "50%                      0.000000      139.000000      136.000000   \n",
              "75%                      0.000000      148.000000      145.000000   \n",
              "max                     10.000000      187.000000      182.000000   \n",
              "\n",
              "       histogram_median  histogram_variance  histogram_tendency  fetal_health  \n",
              "count       2126.000000         2126.000000         2126.000000   2126.000000  \n",
              "mean         138.090310           18.808090            0.320320      1.304327  \n",
              "std           14.466589           28.977636            0.610829      0.614377  \n",
              "min           77.000000            0.000000           -1.000000      1.000000  \n",
              "25%          129.000000            2.000000            0.000000      1.000000  \n",
              "50%          139.000000            7.000000            0.000000      1.000000  \n",
              "75%          148.000000           24.000000            1.000000      1.000000  \n",
              "max          186.000000          269.000000            1.000000      3.000000  \n",
              "\n",
              "[8 rows x 22 columns]"
            ],
            "text/html": [
              "\n",
              "  <div id=\"df-ace7a5ee-705b-45e2-8c58-07d6149488c4\" class=\"colab-df-container\">\n",
              "    <div>\n",
              "<style scoped>\n",
              "    .dataframe tbody tr th:only-of-type {\n",
              "        vertical-align: middle;\n",
              "    }\n",
              "\n",
              "    .dataframe tbody tr th {\n",
              "        vertical-align: top;\n",
              "    }\n",
              "\n",
              "    .dataframe thead th {\n",
              "        text-align: right;\n",
              "    }\n",
              "</style>\n",
              "<table border=\"1\" class=\"dataframe\">\n",
              "  <thead>\n",
              "    <tr style=\"text-align: right;\">\n",
              "      <th></th>\n",
              "      <th>baseline value</th>\n",
              "      <th>accelerations</th>\n",
              "      <th>fetal_movement</th>\n",
              "      <th>uterine_contractions</th>\n",
              "      <th>light_decelerations</th>\n",
              "      <th>severe_decelerations</th>\n",
              "      <th>prolongued_decelerations</th>\n",
              "      <th>abnormal_short_term_variability</th>\n",
              "      <th>mean_value_of_short_term_variability</th>\n",
              "      <th>percentage_of_time_with_abnormal_long_term_variability</th>\n",
              "      <th>...</th>\n",
              "      <th>histogram_min</th>\n",
              "      <th>histogram_max</th>\n",
              "      <th>histogram_number_of_peaks</th>\n",
              "      <th>histogram_number_of_zeroes</th>\n",
              "      <th>histogram_mode</th>\n",
              "      <th>histogram_mean</th>\n",
              "      <th>histogram_median</th>\n",
              "      <th>histogram_variance</th>\n",
              "      <th>histogram_tendency</th>\n",
              "      <th>fetal_health</th>\n",
              "    </tr>\n",
              "  </thead>\n",
              "  <tbody>\n",
              "    <tr>\n",
              "      <th>count</th>\n",
              "      <td>2126.000000</td>\n",
              "      <td>2126.000000</td>\n",
              "      <td>2126.000000</td>\n",
              "      <td>2126.000000</td>\n",
              "      <td>2126.000000</td>\n",
              "      <td>2126.000000</td>\n",
              "      <td>2126.000000</td>\n",
              "      <td>2126.000000</td>\n",
              "      <td>2126.000000</td>\n",
              "      <td>2126.00000</td>\n",
              "      <td>...</td>\n",
              "      <td>2126.000000</td>\n",
              "      <td>2126.000000</td>\n",
              "      <td>2126.000000</td>\n",
              "      <td>2126.000000</td>\n",
              "      <td>2126.000000</td>\n",
              "      <td>2126.000000</td>\n",
              "      <td>2126.000000</td>\n",
              "      <td>2126.000000</td>\n",
              "      <td>2126.000000</td>\n",
              "      <td>2126.000000</td>\n",
              "    </tr>\n",
              "    <tr>\n",
              "      <th>mean</th>\n",
              "      <td>133.303857</td>\n",
              "      <td>0.003178</td>\n",
              "      <td>0.009481</td>\n",
              "      <td>0.004366</td>\n",
              "      <td>0.001889</td>\n",
              "      <td>0.000003</td>\n",
              "      <td>0.000159</td>\n",
              "      <td>46.990122</td>\n",
              "      <td>1.332785</td>\n",
              "      <td>9.84666</td>\n",
              "      <td>...</td>\n",
              "      <td>93.579492</td>\n",
              "      <td>164.025400</td>\n",
              "      <td>4.068203</td>\n",
              "      <td>0.323612</td>\n",
              "      <td>137.452023</td>\n",
              "      <td>134.610536</td>\n",
              "      <td>138.090310</td>\n",
              "      <td>18.808090</td>\n",
              "      <td>0.320320</td>\n",
              "      <td>1.304327</td>\n",
              "    </tr>\n",
              "    <tr>\n",
              "      <th>std</th>\n",
              "      <td>9.840844</td>\n",
              "      <td>0.003866</td>\n",
              "      <td>0.046666</td>\n",
              "      <td>0.002946</td>\n",
              "      <td>0.002960</td>\n",
              "      <td>0.000057</td>\n",
              "      <td>0.000590</td>\n",
              "      <td>17.192814</td>\n",
              "      <td>0.883241</td>\n",
              "      <td>18.39688</td>\n",
              "      <td>...</td>\n",
              "      <td>29.560212</td>\n",
              "      <td>17.944183</td>\n",
              "      <td>2.949386</td>\n",
              "      <td>0.706059</td>\n",
              "      <td>16.381289</td>\n",
              "      <td>15.593596</td>\n",
              "      <td>14.466589</td>\n",
              "      <td>28.977636</td>\n",
              "      <td>0.610829</td>\n",
              "      <td>0.614377</td>\n",
              "    </tr>\n",
              "    <tr>\n",
              "      <th>min</th>\n",
              "      <td>106.000000</td>\n",
              "      <td>0.000000</td>\n",
              "      <td>0.000000</td>\n",
              "      <td>0.000000</td>\n",
              "      <td>0.000000</td>\n",
              "      <td>0.000000</td>\n",
              "      <td>0.000000</td>\n",
              "      <td>12.000000</td>\n",
              "      <td>0.200000</td>\n",
              "      <td>0.00000</td>\n",
              "      <td>...</td>\n",
              "      <td>50.000000</td>\n",
              "      <td>122.000000</td>\n",
              "      <td>0.000000</td>\n",
              "      <td>0.000000</td>\n",
              "      <td>60.000000</td>\n",
              "      <td>73.000000</td>\n",
              "      <td>77.000000</td>\n",
              "      <td>0.000000</td>\n",
              "      <td>-1.000000</td>\n",
              "      <td>1.000000</td>\n",
              "    </tr>\n",
              "    <tr>\n",
              "      <th>25%</th>\n",
              "      <td>126.000000</td>\n",
              "      <td>0.000000</td>\n",
              "      <td>0.000000</td>\n",
              "      <td>0.002000</td>\n",
              "      <td>0.000000</td>\n",
              "      <td>0.000000</td>\n",
              "      <td>0.000000</td>\n",
              "      <td>32.000000</td>\n",
              "      <td>0.700000</td>\n",
              "      <td>0.00000</td>\n",
              "      <td>...</td>\n",
              "      <td>67.000000</td>\n",
              "      <td>152.000000</td>\n",
              "      <td>2.000000</td>\n",
              "      <td>0.000000</td>\n",
              "      <td>129.000000</td>\n",
              "      <td>125.000000</td>\n",
              "      <td>129.000000</td>\n",
              "      <td>2.000000</td>\n",
              "      <td>0.000000</td>\n",
              "      <td>1.000000</td>\n",
              "    </tr>\n",
              "    <tr>\n",
              "      <th>50%</th>\n",
              "      <td>133.000000</td>\n",
              "      <td>0.002000</td>\n",
              "      <td>0.000000</td>\n",
              "      <td>0.004000</td>\n",
              "      <td>0.000000</td>\n",
              "      <td>0.000000</td>\n",
              "      <td>0.000000</td>\n",
              "      <td>49.000000</td>\n",
              "      <td>1.200000</td>\n",
              "      <td>0.00000</td>\n",
              "      <td>...</td>\n",
              "      <td>93.000000</td>\n",
              "      <td>162.000000</td>\n",
              "      <td>3.000000</td>\n",
              "      <td>0.000000</td>\n",
              "      <td>139.000000</td>\n",
              "      <td>136.000000</td>\n",
              "      <td>139.000000</td>\n",
              "      <td>7.000000</td>\n",
              "      <td>0.000000</td>\n",
              "      <td>1.000000</td>\n",
              "    </tr>\n",
              "    <tr>\n",
              "      <th>75%</th>\n",
              "      <td>140.000000</td>\n",
              "      <td>0.006000</td>\n",
              "      <td>0.003000</td>\n",
              "      <td>0.007000</td>\n",
              "      <td>0.003000</td>\n",
              "      <td>0.000000</td>\n",
              "      <td>0.000000</td>\n",
              "      <td>61.000000</td>\n",
              "      <td>1.700000</td>\n",
              "      <td>11.00000</td>\n",
              "      <td>...</td>\n",
              "      <td>120.000000</td>\n",
              "      <td>174.000000</td>\n",
              "      <td>6.000000</td>\n",
              "      <td>0.000000</td>\n",
              "      <td>148.000000</td>\n",
              "      <td>145.000000</td>\n",
              "      <td>148.000000</td>\n",
              "      <td>24.000000</td>\n",
              "      <td>1.000000</td>\n",
              "      <td>1.000000</td>\n",
              "    </tr>\n",
              "    <tr>\n",
              "      <th>max</th>\n",
              "      <td>160.000000</td>\n",
              "      <td>0.019000</td>\n",
              "      <td>0.481000</td>\n",
              "      <td>0.015000</td>\n",
              "      <td>0.015000</td>\n",
              "      <td>0.001000</td>\n",
              "      <td>0.005000</td>\n",
              "      <td>87.000000</td>\n",
              "      <td>7.000000</td>\n",
              "      <td>91.00000</td>\n",
              "      <td>...</td>\n",
              "      <td>159.000000</td>\n",
              "      <td>238.000000</td>\n",
              "      <td>18.000000</td>\n",
              "      <td>10.000000</td>\n",
              "      <td>187.000000</td>\n",
              "      <td>182.000000</td>\n",
              "      <td>186.000000</td>\n",
              "      <td>269.000000</td>\n",
              "      <td>1.000000</td>\n",
              "      <td>3.000000</td>\n",
              "    </tr>\n",
              "  </tbody>\n",
              "</table>\n",
              "<p>8 rows × 22 columns</p>\n",
              "</div>\n",
              "    <div class=\"colab-df-buttons\">\n",
              "\n",
              "  <div class=\"colab-df-container\">\n",
              "    <button class=\"colab-df-convert\" onclick=\"convertToInteractive('df-ace7a5ee-705b-45e2-8c58-07d6149488c4')\"\n",
              "            title=\"Convert this dataframe to an interactive table.\"\n",
              "            style=\"display:none;\">\n",
              "\n",
              "  <svg xmlns=\"http://www.w3.org/2000/svg\" height=\"24px\" viewBox=\"0 -960 960 960\">\n",
              "    <path d=\"M120-120v-720h720v720H120Zm60-500h600v-160H180v160Zm220 220h160v-160H400v160Zm0 220h160v-160H400v160ZM180-400h160v-160H180v160Zm440 0h160v-160H620v160ZM180-180h160v-160H180v160Zm440 0h160v-160H620v160Z\"/>\n",
              "  </svg>\n",
              "    </button>\n",
              "\n",
              "  <style>\n",
              "    .colab-df-container {\n",
              "      display:flex;\n",
              "      gap: 12px;\n",
              "    }\n",
              "\n",
              "    .colab-df-convert {\n",
              "      background-color: #E8F0FE;\n",
              "      border: none;\n",
              "      border-radius: 50%;\n",
              "      cursor: pointer;\n",
              "      display: none;\n",
              "      fill: #1967D2;\n",
              "      height: 32px;\n",
              "      padding: 0 0 0 0;\n",
              "      width: 32px;\n",
              "    }\n",
              "\n",
              "    .colab-df-convert:hover {\n",
              "      background-color: #E2EBFA;\n",
              "      box-shadow: 0px 1px 2px rgba(60, 64, 67, 0.3), 0px 1px 3px 1px rgba(60, 64, 67, 0.15);\n",
              "      fill: #174EA6;\n",
              "    }\n",
              "\n",
              "    .colab-df-buttons div {\n",
              "      margin-bottom: 4px;\n",
              "    }\n",
              "\n",
              "    [theme=dark] .colab-df-convert {\n",
              "      background-color: #3B4455;\n",
              "      fill: #D2E3FC;\n",
              "    }\n",
              "\n",
              "    [theme=dark] .colab-df-convert:hover {\n",
              "      background-color: #434B5C;\n",
              "      box-shadow: 0px 1px 3px 1px rgba(0, 0, 0, 0.15);\n",
              "      filter: drop-shadow(0px 1px 2px rgba(0, 0, 0, 0.3));\n",
              "      fill: #FFFFFF;\n",
              "    }\n",
              "  </style>\n",
              "\n",
              "    <script>\n",
              "      const buttonEl =\n",
              "        document.querySelector('#df-ace7a5ee-705b-45e2-8c58-07d6149488c4 button.colab-df-convert');\n",
              "      buttonEl.style.display =\n",
              "        google.colab.kernel.accessAllowed ? 'block' : 'none';\n",
              "\n",
              "      async function convertToInteractive(key) {\n",
              "        const element = document.querySelector('#df-ace7a5ee-705b-45e2-8c58-07d6149488c4');\n",
              "        const dataTable =\n",
              "          await google.colab.kernel.invokeFunction('convertToInteractive',\n",
              "                                                    [key], {});\n",
              "        if (!dataTable) return;\n",
              "\n",
              "        const docLinkHtml = 'Like what you see? Visit the ' +\n",
              "          '<a target=\"_blank\" href=https://colab.research.google.com/notebooks/data_table.ipynb>data table notebook</a>'\n",
              "          + ' to learn more about interactive tables.';\n",
              "        element.innerHTML = '';\n",
              "        dataTable['output_type'] = 'display_data';\n",
              "        await google.colab.output.renderOutput(dataTable, element);\n",
              "        const docLink = document.createElement('div');\n",
              "        docLink.innerHTML = docLinkHtml;\n",
              "        element.appendChild(docLink);\n",
              "      }\n",
              "    </script>\n",
              "  </div>\n",
              "\n",
              "\n",
              "<div id=\"df-9dbb1f6c-53c0-42ce-9034-01b856a75175\">\n",
              "  <button class=\"colab-df-quickchart\" onclick=\"quickchart('df-9dbb1f6c-53c0-42ce-9034-01b856a75175')\"\n",
              "            title=\"Suggest charts\"\n",
              "            style=\"display:none;\">\n",
              "\n",
              "<svg xmlns=\"http://www.w3.org/2000/svg\" height=\"24px\"viewBox=\"0 0 24 24\"\n",
              "     width=\"24px\">\n",
              "    <g>\n",
              "        <path d=\"M19 3H5c-1.1 0-2 .9-2 2v14c0 1.1.9 2 2 2h14c1.1 0 2-.9 2-2V5c0-1.1-.9-2-2-2zM9 17H7v-7h2v7zm4 0h-2V7h2v10zm4 0h-2v-4h2v4z\"/>\n",
              "    </g>\n",
              "</svg>\n",
              "  </button>\n",
              "\n",
              "<style>\n",
              "  .colab-df-quickchart {\n",
              "      --bg-color: #E8F0FE;\n",
              "      --fill-color: #1967D2;\n",
              "      --hover-bg-color: #E2EBFA;\n",
              "      --hover-fill-color: #174EA6;\n",
              "      --disabled-fill-color: #AAA;\n",
              "      --disabled-bg-color: #DDD;\n",
              "  }\n",
              "\n",
              "  [theme=dark] .colab-df-quickchart {\n",
              "      --bg-color: #3B4455;\n",
              "      --fill-color: #D2E3FC;\n",
              "      --hover-bg-color: #434B5C;\n",
              "      --hover-fill-color: #FFFFFF;\n",
              "      --disabled-bg-color: #3B4455;\n",
              "      --disabled-fill-color: #666;\n",
              "  }\n",
              "\n",
              "  .colab-df-quickchart {\n",
              "    background-color: var(--bg-color);\n",
              "    border: none;\n",
              "    border-radius: 50%;\n",
              "    cursor: pointer;\n",
              "    display: none;\n",
              "    fill: var(--fill-color);\n",
              "    height: 32px;\n",
              "    padding: 0;\n",
              "    width: 32px;\n",
              "  }\n",
              "\n",
              "  .colab-df-quickchart:hover {\n",
              "    background-color: var(--hover-bg-color);\n",
              "    box-shadow: 0 1px 2px rgba(60, 64, 67, 0.3), 0 1px 3px 1px rgba(60, 64, 67, 0.15);\n",
              "    fill: var(--button-hover-fill-color);\n",
              "  }\n",
              "\n",
              "  .colab-df-quickchart-complete:disabled,\n",
              "  .colab-df-quickchart-complete:disabled:hover {\n",
              "    background-color: var(--disabled-bg-color);\n",
              "    fill: var(--disabled-fill-color);\n",
              "    box-shadow: none;\n",
              "  }\n",
              "\n",
              "  .colab-df-spinner {\n",
              "    border: 2px solid var(--fill-color);\n",
              "    border-color: transparent;\n",
              "    border-bottom-color: var(--fill-color);\n",
              "    animation:\n",
              "      spin 1s steps(1) infinite;\n",
              "  }\n",
              "\n",
              "  @keyframes spin {\n",
              "    0% {\n",
              "      border-color: transparent;\n",
              "      border-bottom-color: var(--fill-color);\n",
              "      border-left-color: var(--fill-color);\n",
              "    }\n",
              "    20% {\n",
              "      border-color: transparent;\n",
              "      border-left-color: var(--fill-color);\n",
              "      border-top-color: var(--fill-color);\n",
              "    }\n",
              "    30% {\n",
              "      border-color: transparent;\n",
              "      border-left-color: var(--fill-color);\n",
              "      border-top-color: var(--fill-color);\n",
              "      border-right-color: var(--fill-color);\n",
              "    }\n",
              "    40% {\n",
              "      border-color: transparent;\n",
              "      border-right-color: var(--fill-color);\n",
              "      border-top-color: var(--fill-color);\n",
              "    }\n",
              "    60% {\n",
              "      border-color: transparent;\n",
              "      border-right-color: var(--fill-color);\n",
              "    }\n",
              "    80% {\n",
              "      border-color: transparent;\n",
              "      border-right-color: var(--fill-color);\n",
              "      border-bottom-color: var(--fill-color);\n",
              "    }\n",
              "    90% {\n",
              "      border-color: transparent;\n",
              "      border-bottom-color: var(--fill-color);\n",
              "    }\n",
              "  }\n",
              "</style>\n",
              "\n",
              "  <script>\n",
              "    async function quickchart(key) {\n",
              "      const quickchartButtonEl =\n",
              "        document.querySelector('#' + key + ' button');\n",
              "      quickchartButtonEl.disabled = true;  // To prevent multiple clicks.\n",
              "      quickchartButtonEl.classList.add('colab-df-spinner');\n",
              "      try {\n",
              "        const charts = await google.colab.kernel.invokeFunction(\n",
              "            'suggestCharts', [key], {});\n",
              "      } catch (error) {\n",
              "        console.error('Error during call to suggestCharts:', error);\n",
              "      }\n",
              "      quickchartButtonEl.classList.remove('colab-df-spinner');\n",
              "      quickchartButtonEl.classList.add('colab-df-quickchart-complete');\n",
              "    }\n",
              "    (() => {\n",
              "      let quickchartButtonEl =\n",
              "        document.querySelector('#df-9dbb1f6c-53c0-42ce-9034-01b856a75175 button');\n",
              "      quickchartButtonEl.style.display =\n",
              "        google.colab.kernel.accessAllowed ? 'block' : 'none';\n",
              "    })();\n",
              "  </script>\n",
              "</div>\n",
              "\n",
              "    </div>\n",
              "  </div>\n"
            ],
            "application/vnd.google.colaboratory.intrinsic+json": {
              "type": "dataframe"
            }
          },
          "metadata": {},
          "execution_count": 16
        }
      ]
    },
    {
      "cell_type": "markdown",
      "source": [
        "  # Outliers\n",
        "Outliers presentes na base de dados precisam ser identificados, pois podem impactar negativamente o desempenho do modelo. O gráfico boxplot é uma ferramenta útil para visualizar esses problemas, permitindo a detecção fácil de valores discrepantes que fogem do padrão esperado."
      ],
      "metadata": {
        "id": "Ue_r62g3fJUs"
      }
    },
    {
      "cell_type": "code",
      "source": [
        "\n",
        "fig, ax = plt.subplots(1,2,figsize=(15,4), dpi=72)\n",
        "sns.boxplot(data=df, x=\"accelerations\", ax=ax[0])\n",
        "sns.boxplot(data=df, x=\"light_decelerations\",  ax=ax[1])\n",
        "plt.tight_layout()"
      ],
      "metadata": {
        "colab": {
          "base_uri": "https://localhost:8080/",
          "height": 293
        },
        "id": "2QJy5-EhLwhb",
        "outputId": "33054d88-2363-4360-b6e6-dea3858c7f9c"
      },
      "execution_count": null,
      "outputs": [
        {
          "output_type": "display_data",
          "data": {
            "text/plain": [
              "<Figure size 1080x288 with 2 Axes>"
            ],
            "image/png": "[encoded data removed]"
          },
          "metadata": {}
        }
      ]
    },
    {
      "cell_type": "code",
      "source": [
        "from sklearn.preprocessing import StandardScaler\n",
        "from sklearn.model_selection import train_test_split\n",
        "from imblearn.over_sampling import ADASYN"
      ],
      "metadata": {
        "id": "9D0bsXdoLzSF"
      },
      "execution_count": null,
      "outputs": []
    },
    {
      "cell_type": "code",
      "source": [
        "scaler = StandardScaler()\n",
        "df_clean = scaler.fit_transform(df.iloc[:, :21].copy())"
      ],
      "metadata": {
        "id": "A-3oYgE3L1kw"
      },
      "execution_count": null,
      "outputs": []
    },
    {
      "cell_type": "code",
      "source": [
        "\n",
        "features = df_clean.copy()\n",
        "target = df.fetal_health.values.copy()\n",
        "x_train, x_test, y_train, y_test = train_test_split(features, target, test_size=0.25, random_state=0, stratify=target, shuffle=True)"
      ],
      "metadata": {
        "id": "9Wt0VMi9L4Lr"
      },
      "execution_count": null,
      "outputs": []
    },
    {
      "cell_type": "code",
      "source": [
        "\n",
        "from imblearn.over_sampling import ADASYN\n",
        "adasyn = ADASYN()\n",
        "x_ada, y_ada = adasyn.fit_resample(x_train, y_train)"
      ],
      "metadata": {
        "id": "6oMhGbu6L64G"
      },
      "execution_count": null,
      "outputs": []
    },
    {
      "cell_type": "code",
      "source": [
        "\n",
        "fig, ax = plt.subplots(figsize=(10, 6), dpi=72)\n",
        "\n",
        "sns.countplot(x=y_ada, palette=['#0073CF', \"#D3D3D3\"], linewidth=0, edgecolor=\"none\", ax=ax)\n",
        "ax.text(-0, 1500, 'Distribuição da saúde fetal' ,\n",
        "        fontsize=20, fontweight='medium',va='bottom', color='black')\n",
        "ax.set_ylabel('Quantidade de ocorrências')\n",
        "ax.set_xlabel('Classe')\n",
        "plt.tight_layout()"
      ],
      "metadata": {
        "colab": {
          "base_uri": "https://localhost:8080/",
          "height": 433
        },
        "id": "PUPxR53QL-bg",
        "outputId": "dcc47397-e0ad-4b2f-8657-4df35a462691"
      },
      "execution_count": null,
      "outputs": [
        {
          "output_type": "display_data",
          "data": {
            "text/plain": [
              "<Figure size 720x432 with 1 Axes>"
            ],
            "image/png": "[encoded data removed]"
          },
          "metadata": {}
        }
      ]
    },
    {
      "cell_type": "markdown",
      "source": [
        "Conforme o gráfico  os dados estão balanceados, a próxima etapa é criar um setup com os dados de treino para modelagem"
      ],
      "metadata": {
        "id": "XSV3ErFqg3QY"
      }
    },
    {
      "cell_type": "code",
      "source": [
        "\n",
        "train = pd.DataFrame(x_ada, columns=df.columns[:21])\n",
        "train['target'] = y_ada"
      ],
      "metadata": {
        "id": "6UxVivC5Mxni"
      },
      "execution_count": null,
      "outputs": []
    },
    {
      "cell_type": "code",
      "source": [
        "clf = setup(data=train, target='target')\n"
      ],
      "metadata": {
        "colab": {
          "base_uri": "https://localhost:8080/",
          "height": 676
        },
        "id": "Z3mk2v3VMCTX",
        "outputId": "74f72e57-8167-468f-fcc0-e049e7c5bc3e"
      },
      "execution_count": null,
      "outputs": [
        {
          "output_type": "display_data",
          "data": {
            "text/plain": [
              "<pandas.io.formats.style.Styler at 0x7ea009e3a5c0>"
            ],
            "text/html": [
              "<style type=\"text/css\">\n",
              "#T_1913f_row9_col1 {\n",
              "  background-color: lightgreen;\n",
              "}\n",
              "</style>\n",
              "<table id=\"T_1913f\" class=\"dataframe\">\n",
              "  <thead>\n",
              "    <tr>\n",
              "      <th class=\"blank level0\" >&nbsp;</th>\n",
              "      <th id=\"T_1913f_level0_col0\" class=\"col_heading level0 col0\" >Description</th>\n",
              "      <th id=\"T_1913f_level0_col1\" class=\"col_heading level0 col1\" >Value</th>\n",
              "    </tr>\n",
              "  </thead>\n",
              "  <tbody>\n",
              "    <tr>\n",
              "      <th id=\"T_1913f_level0_row0\" class=\"row_heading level0 row0\" >0</th>\n",
              "      <td id=\"T_1913f_row0_col0\" class=\"data row0 col0\" >Session id</td>\n",
              "      <td id=\"T_1913f_row0_col1\" class=\"data row0 col1\" >7075</td>\n",
              "    </tr>\n",
              "    <tr>\n",
              "      <th id=\"T_1913f_level0_row1\" class=\"row_heading level0 row1\" >1</th>\n",
              "      <td id=\"T_1913f_row1_col0\" class=\"data row1 col0\" >Target</td>\n",
              "      <td id=\"T_1913f_row1_col1\" class=\"data row1 col1\" >target</td>\n",
              "    </tr>\n",
              "    <tr>\n",
              "      <th id=\"T_1913f_level0_row2\" class=\"row_heading level0 row2\" >2</th>\n",
              "      <td id=\"T_1913f_row2_col0\" class=\"data row2 col0\" >Target type</td>\n",
              "      <td id=\"T_1913f_row2_col1\" class=\"data row2 col1\" >Multiclass</td>\n",
              "    </tr>\n",
              "    <tr>\n",
              "      <th id=\"T_1913f_level0_row3\" class=\"row_heading level0 row3\" >3</th>\n",
              "      <td id=\"T_1913f_row3_col0\" class=\"data row3 col0\" >Target mapping</td>\n",
              "      <td id=\"T_1913f_row3_col1\" class=\"data row3 col1\" >1.0: 0, 2.0: 1, 3.0: 2</td>\n",
              "    </tr>\n",
              "    <tr>\n",
              "      <th id=\"T_1913f_level0_row4\" class=\"row_heading level0 row4\" >4</th>\n",
              "      <td id=\"T_1913f_row4_col0\" class=\"data row4 col0\" >Original data shape</td>\n",
              "      <td id=\"T_1913f_row4_col1\" class=\"data row4 col1\" >(3695, 22)</td>\n",
              "    </tr>\n",
              "    <tr>\n",
              "      <th id=\"T_1913f_level0_row5\" class=\"row_heading level0 row5\" >5</th>\n",
              "      <td id=\"T_1913f_row5_col0\" class=\"data row5 col0\" >Transformed data shape</td>\n",
              "      <td id=\"T_1913f_row5_col1\" class=\"data row5 col1\" >(3695, 22)</td>\n",
              "    </tr>\n",
              "    <tr>\n",
              "      <th id=\"T_1913f_level0_row6\" class=\"row_heading level0 row6\" >6</th>\n",
              "      <td id=\"T_1913f_row6_col0\" class=\"data row6 col0\" >Transformed train set shape</td>\n",
              "      <td id=\"T_1913f_row6_col1\" class=\"data row6 col1\" >(2586, 22)</td>\n",
              "    </tr>\n",
              "    <tr>\n",
              "      <th id=\"T_1913f_level0_row7\" class=\"row_heading level0 row7\" >7</th>\n",
              "      <td id=\"T_1913f_row7_col0\" class=\"data row7 col0\" >Transformed test set shape</td>\n",
              "      <td id=\"T_1913f_row7_col1\" class=\"data row7 col1\" >(1109, 22)</td>\n",
              "    </tr>\n",
              "    <tr>\n",
              "      <th id=\"T_1913f_level0_row8\" class=\"row_heading level0 row8\" >8</th>\n",
              "      <td id=\"T_1913f_row8_col0\" class=\"data row8 col0\" >Numeric features</td>\n",
              "      <td id=\"T_1913f_row8_col1\" class=\"data row8 col1\" >21</td>\n",
              "    </tr>\n",
              "    <tr>\n",
              "      <th id=\"T_1913f_level0_row9\" class=\"row_heading level0 row9\" >9</th>\n",
              "      <td id=\"T_1913f_row9_col0\" class=\"data row9 col0\" >Preprocess</td>\n",
              "      <td id=\"T_1913f_row9_col1\" class=\"data row9 col1\" >True</td>\n",
              "    </tr>\n",
              "    <tr>\n",
              "      <th id=\"T_1913f_level0_row10\" class=\"row_heading level0 row10\" >10</th>\n",
              "      <td id=\"T_1913f_row10_col0\" class=\"data row10 col0\" >Imputation type</td>\n",
              "      <td id=\"T_1913f_row10_col1\" class=\"data row10 col1\" >simple</td>\n",
              "    </tr>\n",
              "    <tr>\n",
              "      <th id=\"T_1913f_level0_row11\" class=\"row_heading level0 row11\" >11</th>\n",
              "      <td id=\"T_1913f_row11_col0\" class=\"data row11 col0\" >Numeric imputation</td>\n",
              "      <td id=\"T_1913f_row11_col1\" class=\"data row11 col1\" >mean</td>\n",
              "    </tr>\n",
              "    <tr>\n",
              "      <th id=\"T_1913f_level0_row12\" class=\"row_heading level0 row12\" >12</th>\n",
              "      <td id=\"T_1913f_row12_col0\" class=\"data row12 col0\" >Categorical imputation</td>\n",
              "      <td id=\"T_1913f_row12_col1\" class=\"data row12 col1\" >mode</td>\n",
              "    </tr>\n",
              "    <tr>\n",
              "      <th id=\"T_1913f_level0_row13\" class=\"row_heading level0 row13\" >13</th>\n",
              "      <td id=\"T_1913f_row13_col0\" class=\"data row13 col0\" >Fold Generator</td>\n",
              "      <td id=\"T_1913f_row13_col1\" class=\"data row13 col1\" >StratifiedKFold</td>\n",
              "    </tr>\n",
              "    <tr>\n",
              "      <th id=\"T_1913f_level0_row14\" class=\"row_heading level0 row14\" >14</th>\n",
              "      <td id=\"T_1913f_row14_col0\" class=\"data row14 col0\" >Fold Number</td>\n",
              "      <td id=\"T_1913f_row14_col1\" class=\"data row14 col1\" >10</td>\n",
              "    </tr>\n",
              "    <tr>\n",
              "      <th id=\"T_1913f_level0_row15\" class=\"row_heading level0 row15\" >15</th>\n",
              "      <td id=\"T_1913f_row15_col0\" class=\"data row15 col0\" >CPU Jobs</td>\n",
              "      <td id=\"T_1913f_row15_col1\" class=\"data row15 col1\" >-1</td>\n",
              "    </tr>\n",
              "    <tr>\n",
              "      <th id=\"T_1913f_level0_row16\" class=\"row_heading level0 row16\" >16</th>\n",
              "      <td id=\"T_1913f_row16_col0\" class=\"data row16 col0\" >Use GPU</td>\n",
              "      <td id=\"T_1913f_row16_col1\" class=\"data row16 col1\" >False</td>\n",
              "    </tr>\n",
              "    <tr>\n",
              "      <th id=\"T_1913f_level0_row17\" class=\"row_heading level0 row17\" >17</th>\n",
              "      <td id=\"T_1913f_row17_col0\" class=\"data row17 col0\" >Log Experiment</td>\n",
              "      <td id=\"T_1913f_row17_col1\" class=\"data row17 col1\" >False</td>\n",
              "    </tr>\n",
              "    <tr>\n",
              "      <th id=\"T_1913f_level0_row18\" class=\"row_heading level0 row18\" >18</th>\n",
              "      <td id=\"T_1913f_row18_col0\" class=\"data row18 col0\" >Experiment Name</td>\n",
              "      <td id=\"T_1913f_row18_col1\" class=\"data row18 col1\" >clf-default-name</td>\n",
              "    </tr>\n",
              "    <tr>\n",
              "      <th id=\"T_1913f_level0_row19\" class=\"row_heading level0 row19\" >19</th>\n",
              "      <td id=\"T_1913f_row19_col0\" class=\"data row19 col0\" >USI</td>\n",
              "      <td id=\"T_1913f_row19_col1\" class=\"data row19 col1\" >2dd3</td>\n",
              "    </tr>\n",
              "  </tbody>\n",
              "</table>\n"
            ]
          },
          "metadata": {}
        }
      ]
    },
    {
      "cell_type": "markdown",
      "source": [
        "# Modelagem\n",
        "\n",
        "O processo de modelagem com o PyCaret facilita a comparação entre diferentes modelos de forma automatizada, permitindo avaliar rapidamente o desempenho de diversas abordagens e escolher a mais adequada para o problema em questão."
      ],
      "metadata": {
        "id": "jJz2M-_6hTyr"
      }
    },
    {
      "cell_type": "code",
      "source": [
        "best = compare_models(sort='Recall', n_select=5)\n"
      ],
      "metadata": {
        "colab": {
          "base_uri": "https://localhost:8080/",
          "height": 519,
          "referenced_widgets": [
            "d94c323748ac450cb24a021b99ccc2bd",
            "ff1398dcb7864eb1a766fcfe644515ec",
            "e9abb5b573ed4c018af86d6ba8a68d83",
            "17780db011fb4e76a0eae7239a281d7d",
            "f401990925e4428b9c5f077e68c20a84",
            "60a966e6d6f24d0d98e8e52bb61cbd85",
            "13630d72e61b428283cb1da1efff8ac6",
            "c166e58ca8364f72a624dc69f5242444",
            "82cf9f64cf6a4b2ea047cb9e81c0d34f",
            "d3b28724297f43b1b93060b02fd20968",
            "c1e1ab8cd4a149e6af8a80d520420c3f"
          ]
        },
        "id": "N9gw7-wkM8Cm",
        "outputId": "23904aff-e1ee-4767-bd9a-24314a937012"
      },
      "execution_count": null,
      "outputs": [
        {
          "output_type": "display_data",
          "data": {
            "text/plain": [
              "<IPython.core.display.HTML object>"
            ],
            "text/html": []
          },
          "metadata": {}
        },
        {
          "output_type": "display_data",
          "data": {
            "text/plain": [
              "<pandas.io.formats.style.Styler at 0x7ea00c050580>"
            ],
            "text/html": [
              "<style type=\"text/css\">\n",
              "#T_7f456 th {\n",
              "  text-align: left;\n",
              "}\n",
              "#T_7f456_row0_col0, #T_7f456_row0_col2, #T_7f456_row1_col0, #T_7f456_row1_col4, #T_7f456_row1_col7, #T_7f456_row2_col0, #T_7f456_row2_col1, #T_7f456_row2_col2, #T_7f456_row2_col3, #T_7f456_row2_col4, #T_7f456_row2_col5, #T_7f456_row2_col6, #T_7f456_row2_col7, #T_7f456_row3_col0, #T_7f456_row3_col1, #T_7f456_row3_col2, #T_7f456_row3_col3, #T_7f456_row3_col4, #T_7f456_row3_col5, #T_7f456_row3_col6, #T_7f456_row3_col7, #T_7f456_row4_col0, #T_7f456_row4_col1, #T_7f456_row4_col2, #T_7f456_row4_col3, #T_7f456_row4_col4, #T_7f456_row4_col5, #T_7f456_row4_col6, #T_7f456_row4_col7, #T_7f456_row5_col0, #T_7f456_row5_col1, #T_7f456_row5_col2, #T_7f456_row5_col3, #T_7f456_row5_col4, #T_7f456_row5_col5, #T_7f456_row5_col6, #T_7f456_row5_col7, #T_7f456_row6_col0, #T_7f456_row6_col1, #T_7f456_row6_col2, #T_7f456_row6_col3, #T_7f456_row6_col4, #T_7f456_row6_col5, #T_7f456_row6_col6, #T_7f456_row6_col7, #T_7f456_row7_col0, #T_7f456_row7_col1, #T_7f456_row7_col2, #T_7f456_row7_col3, #T_7f456_row7_col4, #T_7f456_row7_col5, #T_7f456_row7_col6, #T_7f456_row7_col7, #T_7f456_row8_col0, #T_7f456_row8_col1, #T_7f456_row8_col2, #T_7f456_row8_col3, #T_7f456_row8_col4, #T_7f456_row8_col5, #T_7f456_row8_col6, #T_7f456_row8_col7, #T_7f456_row9_col0, #T_7f456_row9_col1, #T_7f456_row9_col2, #T_7f456_row9_col3, #T_7f456_row9_col4, #T_7f456_row9_col5, #T_7f456_row9_col6, #T_7f456_row9_col7, #T_7f456_row10_col0, #T_7f456_row10_col1, #T_7f456_row10_col2, #T_7f456_row10_col3, #T_7f456_row10_col4, #T_7f456_row10_col5, #T_7f456_row10_col6, #T_7f456_row10_col7, #T_7f456_row11_col0, #T_7f456_row11_col1, #T_7f456_row11_col2, #T_7f456_row11_col3, #T_7f456_row11_col4, #T_7f456_row11_col5, #T_7f456_row11_col6, #T_7f456_row11_col7, #T_7f456_row12_col0, #T_7f456_row12_col1, #T_7f456_row12_col2, #T_7f456_row12_col3, #T_7f456_row12_col4, #T_7f456_row12_col5, #T_7f456_row12_col6, #T_7f456_row12_col7, #T_7f456_row13_col0, #T_7f456_row13_col1, #T_7f456_row13_col2, #T_7f456_row13_col3, #T_7f456_row13_col4, #T_7f456_row13_col5, #T_7f456_row13_col6, #T_7f456_row13_col7, #T_7f456_row14_col0, #T_7f456_row14_col1, #T_7f456_row14_col2, #T_7f456_row14_col3, #T_7f456_row14_col4, #T_7f456_row14_col5, #T_7f456_row14_col6, #T_7f456_row14_col7 {\n",
              "  text-align: left;\n",
              "}\n",
              "#T_7f456_row0_col1, #T_7f456_row0_col3, #T_7f456_row0_col4, #T_7f456_row0_col5, #T_7f456_row0_col6, #T_7f456_row0_col7, #T_7f456_row1_col1, #T_7f456_row1_col2, #T_7f456_row1_col3, #T_7f456_row1_col5, #T_7f456_row1_col6 {\n",
              "  text-align: left;\n",
              "  background-color: yellow;\n",
              "}\n",
              "#T_7f456_row0_col8, #T_7f456_row1_col8, #T_7f456_row2_col8, #T_7f456_row3_col8, #T_7f456_row4_col8, #T_7f456_row5_col8, #T_7f456_row6_col8, #T_7f456_row7_col8, #T_7f456_row8_col8, #T_7f456_row9_col8, #T_7f456_row10_col8, #T_7f456_row11_col8, #T_7f456_row12_col8, #T_7f456_row13_col8 {\n",
              "  text-align: left;\n",
              "  background-color: lightgrey;\n",
              "}\n",
              "#T_7f456_row14_col8 {\n",
              "  text-align: left;\n",
              "  background-color: yellow;\n",
              "  background-color: lightgrey;\n",
              "}\n",
              "</style>\n",
              "<table id=\"T_7f456\" class=\"dataframe\">\n",
              "  <thead>\n",
              "    <tr>\n",
              "      <th class=\"blank level0\" >&nbsp;</th>\n",
              "      <th id=\"T_7f456_level0_col0\" class=\"col_heading level0 col0\" >Model</th>\n",
              "      <th id=\"T_7f456_level0_col1\" class=\"col_heading level0 col1\" >Accuracy</th>\n",
              "      <th id=\"T_7f456_level0_col2\" class=\"col_heading level0 col2\" >AUC</th>\n",
              "      <th id=\"T_7f456_level0_col3\" class=\"col_heading level0 col3\" >Recall</th>\n",
              "      <th id=\"T_7f456_level0_col4\" class=\"col_heading level0 col4\" >Prec.</th>\n",
              "      <th id=\"T_7f456_level0_col5\" class=\"col_heading level0 col5\" >F1</th>\n",
              "      <th id=\"T_7f456_level0_col6\" class=\"col_heading level0 col6\" >Kappa</th>\n",
              "      <th id=\"T_7f456_level0_col7\" class=\"col_heading level0 col7\" >MCC</th>\n",
              "      <th id=\"T_7f456_level0_col8\" class=\"col_heading level0 col8\" >TT (Sec)</th>\n",
              "    </tr>\n",
              "  </thead>\n",
              "  <tbody>\n",
              "    <tr>\n",
              "      <th id=\"T_7f456_level0_row0\" class=\"row_heading level0 row0\" >et</th>\n",
              "      <td id=\"T_7f456_row0_col0\" class=\"data row0 col0\" >Extra Trees Classifier</td>\n",
              "      <td id=\"T_7f456_row0_col1\" class=\"data row0 col1\" >0.9760</td>\n",
              "      <td id=\"T_7f456_row0_col2\" class=\"data row0 col2\" >0.9975</td>\n",
              "      <td id=\"T_7f456_row0_col3\" class=\"data row0 col3\" >0.9760</td>\n",
              "      <td id=\"T_7f456_row0_col4\" class=\"data row0 col4\" >0.9769</td>\n",
              "      <td id=\"T_7f456_row0_col5\" class=\"data row0 col5\" >0.9760</td>\n",
              "      <td id=\"T_7f456_row0_col6\" class=\"data row0 col6\" >0.9640</td>\n",
              "      <td id=\"T_7f456_row0_col7\" class=\"data row0 col7\" >0.9645</td>\n",
              "      <td id=\"T_7f456_row0_col8\" class=\"data row0 col8\" >0.3470</td>\n",
              "    </tr>\n",
              "    <tr>\n",
              "      <th id=\"T_7f456_level0_row1\" class=\"row_heading level0 row1\" >lightgbm</th>\n",
              "      <td id=\"T_7f456_row1_col0\" class=\"data row1 col0\" >Light Gradient Boosting Machine</td>\n",
              "      <td id=\"T_7f456_row1_col1\" class=\"data row1 col1\" >0.9760</td>\n",
              "      <td id=\"T_7f456_row1_col2\" class=\"data row1 col2\" >0.9982</td>\n",
              "      <td id=\"T_7f456_row1_col3\" class=\"data row1 col3\" >0.9760</td>\n",
              "      <td id=\"T_7f456_row1_col4\" class=\"data row1 col4\" >0.9764</td>\n",
              "      <td id=\"T_7f456_row1_col5\" class=\"data row1 col5\" >0.9760</td>\n",
              "      <td id=\"T_7f456_row1_col6\" class=\"data row1 col6\" >0.9640</td>\n",
              "      <td id=\"T_7f456_row1_col7\" class=\"data row1 col7\" >0.9642</td>\n",
              "      <td id=\"T_7f456_row1_col8\" class=\"data row1 col8\" >5.1090</td>\n",
              "    </tr>\n",
              "    <tr>\n",
              "      <th id=\"T_7f456_level0_row2\" class=\"row_heading level0 row2\" >xgboost</th>\n",
              "      <td id=\"T_7f456_row2_col0\" class=\"data row2 col0\" >Extreme Gradient Boosting</td>\n",
              "      <td id=\"T_7f456_row2_col1\" class=\"data row2 col1\" >0.9741</td>\n",
              "      <td id=\"T_7f456_row2_col2\" class=\"data row2 col2\" >0.9977</td>\n",
              "      <td id=\"T_7f456_row2_col3\" class=\"data row2 col3\" >0.9741</td>\n",
              "      <td id=\"T_7f456_row2_col4\" class=\"data row2 col4\" >0.9744</td>\n",
              "      <td id=\"T_7f456_row2_col5\" class=\"data row2 col5\" >0.9741</td>\n",
              "      <td id=\"T_7f456_row2_col6\" class=\"data row2 col6\" >0.9611</td>\n",
              "      <td id=\"T_7f456_row2_col7\" class=\"data row2 col7\" >0.9613</td>\n",
              "      <td id=\"T_7f456_row2_col8\" class=\"data row2 col8\" >0.6700</td>\n",
              "    </tr>\n",
              "    <tr>\n",
              "      <th id=\"T_7f456_level0_row3\" class=\"row_heading level0 row3\" >rf</th>\n",
              "      <td id=\"T_7f456_row3_col0\" class=\"data row3 col0\" >Random Forest Classifier</td>\n",
              "      <td id=\"T_7f456_row3_col1\" class=\"data row3 col1\" >0.9710</td>\n",
              "      <td id=\"T_7f456_row3_col2\" class=\"data row3 col2\" >0.9975</td>\n",
              "      <td id=\"T_7f456_row3_col3\" class=\"data row3 col3\" >0.9710</td>\n",
              "      <td id=\"T_7f456_row3_col4\" class=\"data row3 col4\" >0.9716</td>\n",
              "      <td id=\"T_7f456_row3_col5\" class=\"data row3 col5\" >0.9709</td>\n",
              "      <td id=\"T_7f456_row3_col6\" class=\"data row3 col6\" >0.9565</td>\n",
              "      <td id=\"T_7f456_row3_col7\" class=\"data row3 col7\" >0.9568</td>\n",
              "      <td id=\"T_7f456_row3_col8\" class=\"data row3 col8\" >0.5330</td>\n",
              "    </tr>\n",
              "    <tr>\n",
              "      <th id=\"T_7f456_level0_row4\" class=\"row_heading level0 row4\" >gbc</th>\n",
              "      <td id=\"T_7f456_row4_col0\" class=\"data row4 col0\" >Gradient Boosting Classifier</td>\n",
              "      <td id=\"T_7f456_row4_col1\" class=\"data row4 col1\" >0.9652</td>\n",
              "      <td id=\"T_7f456_row4_col2\" class=\"data row4 col2\" >0.0000</td>\n",
              "      <td id=\"T_7f456_row4_col3\" class=\"data row4 col3\" >0.9652</td>\n",
              "      <td id=\"T_7f456_row4_col4\" class=\"data row4 col4\" >0.9659</td>\n",
              "      <td id=\"T_7f456_row4_col5\" class=\"data row4 col5\" >0.9652</td>\n",
              "      <td id=\"T_7f456_row4_col6\" class=\"data row4 col6\" >0.9478</td>\n",
              "      <td id=\"T_7f456_row4_col7\" class=\"data row4 col7\" >0.9481</td>\n",
              "      <td id=\"T_7f456_row4_col8\" class=\"data row4 col8\" >4.2160</td>\n",
              "    </tr>\n",
              "    <tr>\n",
              "      <th id=\"T_7f456_level0_row5\" class=\"row_heading level0 row5\" >knn</th>\n",
              "      <td id=\"T_7f456_row5_col0\" class=\"data row5 col0\" >K Neighbors Classifier</td>\n",
              "      <td id=\"T_7f456_row5_col1\" class=\"data row5 col1\" >0.9443</td>\n",
              "      <td id=\"T_7f456_row5_col2\" class=\"data row5 col2\" >0.9860</td>\n",
              "      <td id=\"T_7f456_row5_col3\" class=\"data row5 col3\" >0.9443</td>\n",
              "      <td id=\"T_7f456_row5_col4\" class=\"data row5 col4\" >0.9496</td>\n",
              "      <td id=\"T_7f456_row5_col5\" class=\"data row5 col5\" >0.9439</td>\n",
              "      <td id=\"T_7f456_row5_col6\" class=\"data row5 col6\" >0.9165</td>\n",
              "      <td id=\"T_7f456_row5_col7\" class=\"data row5 col7\" >0.9193</td>\n",
              "      <td id=\"T_7f456_row5_col8\" class=\"data row5 col8\" >0.1010</td>\n",
              "    </tr>\n",
              "    <tr>\n",
              "      <th id=\"T_7f456_level0_row6\" class=\"row_heading level0 row6\" >dt</th>\n",
              "      <td id=\"T_7f456_row6_col0\" class=\"data row6 col0\" >Decision Tree Classifier</td>\n",
              "      <td id=\"T_7f456_row6_col1\" class=\"data row6 col1\" >0.9393</td>\n",
              "      <td id=\"T_7f456_row6_col2\" class=\"data row6 col2\" >0.9548</td>\n",
              "      <td id=\"T_7f456_row6_col3\" class=\"data row6 col3\" >0.9393</td>\n",
              "      <td id=\"T_7f456_row6_col4\" class=\"data row6 col4\" >0.9399</td>\n",
              "      <td id=\"T_7f456_row6_col5\" class=\"data row6 col5\" >0.9391</td>\n",
              "      <td id=\"T_7f456_row6_col6\" class=\"data row6 col6\" >0.9089</td>\n",
              "      <td id=\"T_7f456_row6_col7\" class=\"data row6 col7\" >0.9094</td>\n",
              "      <td id=\"T_7f456_row6_col8\" class=\"data row6 col8\" >0.1170</td>\n",
              "    </tr>\n",
              "    <tr>\n",
              "      <th id=\"T_7f456_level0_row7\" class=\"row_heading level0 row7\" >lr</th>\n",
              "      <td id=\"T_7f456_row7_col0\" class=\"data row7 col0\" >Logistic Regression</td>\n",
              "      <td id=\"T_7f456_row7_col1\" class=\"data row7 col1\" >0.8871</td>\n",
              "      <td id=\"T_7f456_row7_col2\" class=\"data row7 col2\" >0.0000</td>\n",
              "      <td id=\"T_7f456_row7_col3\" class=\"data row7 col3\" >0.8871</td>\n",
              "      <td id=\"T_7f456_row7_col4\" class=\"data row7 col4\" >0.8920</td>\n",
              "      <td id=\"T_7f456_row7_col5\" class=\"data row7 col5\" >0.8876</td>\n",
              "      <td id=\"T_7f456_row7_col6\" class=\"data row7 col6\" >0.8306</td>\n",
              "      <td id=\"T_7f456_row7_col7\" class=\"data row7 col7\" >0.8323</td>\n",
              "      <td id=\"T_7f456_row7_col8\" class=\"data row7 col8\" >0.5320</td>\n",
              "    </tr>\n",
              "    <tr>\n",
              "      <th id=\"T_7f456_level0_row8\" class=\"row_heading level0 row8\" >ada</th>\n",
              "      <td id=\"T_7f456_row8_col0\" class=\"data row8 col0\" >Ada Boost Classifier</td>\n",
              "      <td id=\"T_7f456_row8_col1\" class=\"data row8 col1\" >0.8797</td>\n",
              "      <td id=\"T_7f456_row8_col2\" class=\"data row8 col2\" >0.0000</td>\n",
              "      <td id=\"T_7f456_row8_col3\" class=\"data row8 col3\" >0.8797</td>\n",
              "      <td id=\"T_7f456_row8_col4\" class=\"data row8 col4\" >0.8832</td>\n",
              "      <td id=\"T_7f456_row8_col5\" class=\"data row8 col5\" >0.8803</td>\n",
              "      <td id=\"T_7f456_row8_col6\" class=\"data row8 col6\" >0.8196</td>\n",
              "      <td id=\"T_7f456_row8_col7\" class=\"data row8 col7\" >0.8207</td>\n",
              "      <td id=\"T_7f456_row8_col8\" class=\"data row8 col8\" >0.3700</td>\n",
              "    </tr>\n",
              "    <tr>\n",
              "      <th id=\"T_7f456_level0_row9\" class=\"row_heading level0 row9\" >lda</th>\n",
              "      <td id=\"T_7f456_row9_col0\" class=\"data row9 col0\" >Linear Discriminant Analysis</td>\n",
              "      <td id=\"T_7f456_row9_col1\" class=\"data row9 col1\" >0.8534</td>\n",
              "      <td id=\"T_7f456_row9_col2\" class=\"data row9 col2\" >0.0000</td>\n",
              "      <td id=\"T_7f456_row9_col3\" class=\"data row9 col3\" >0.8534</td>\n",
              "      <td id=\"T_7f456_row9_col4\" class=\"data row9 col4\" >0.8641</td>\n",
              "      <td id=\"T_7f456_row9_col5\" class=\"data row9 col5\" >0.8542</td>\n",
              "      <td id=\"T_7f456_row9_col6\" class=\"data row9 col6\" >0.7801</td>\n",
              "      <td id=\"T_7f456_row9_col7\" class=\"data row9 col7\" >0.7840</td>\n",
              "      <td id=\"T_7f456_row9_col8\" class=\"data row9 col8\" >0.0360</td>\n",
              "    </tr>\n",
              "    <tr>\n",
              "      <th id=\"T_7f456_level0_row10\" class=\"row_heading level0 row10\" >svm</th>\n",
              "      <td id=\"T_7f456_row10_col0\" class=\"data row10 col0\" >SVM - Linear Kernel</td>\n",
              "      <td id=\"T_7f456_row10_col1\" class=\"data row10 col1\" >0.8430</td>\n",
              "      <td id=\"T_7f456_row10_col2\" class=\"data row10 col2\" >0.0000</td>\n",
              "      <td id=\"T_7f456_row10_col3\" class=\"data row10 col3\" >0.8430</td>\n",
              "      <td id=\"T_7f456_row10_col4\" class=\"data row10 col4\" >0.8487</td>\n",
              "      <td id=\"T_7f456_row10_col5\" class=\"data row10 col5\" >0.8428</td>\n",
              "      <td id=\"T_7f456_row10_col6\" class=\"data row10 col6\" >0.7645</td>\n",
              "      <td id=\"T_7f456_row10_col7\" class=\"data row10 col7\" >0.7674</td>\n",
              "      <td id=\"T_7f456_row10_col8\" class=\"data row10 col8\" >0.0730</td>\n",
              "    </tr>\n",
              "    <tr>\n",
              "      <th id=\"T_7f456_level0_row11\" class=\"row_heading level0 row11\" >ridge</th>\n",
              "      <td id=\"T_7f456_row11_col0\" class=\"data row11 col0\" >Ridge Classifier</td>\n",
              "      <td id=\"T_7f456_row11_col1\" class=\"data row11 col1\" >0.8403</td>\n",
              "      <td id=\"T_7f456_row11_col2\" class=\"data row11 col2\" >0.0000</td>\n",
              "      <td id=\"T_7f456_row11_col3\" class=\"data row11 col3\" >0.8403</td>\n",
              "      <td id=\"T_7f456_row11_col4\" class=\"data row11 col4\" >0.8515</td>\n",
              "      <td id=\"T_7f456_row11_col5\" class=\"data row11 col5\" >0.8412</td>\n",
              "      <td id=\"T_7f456_row11_col6\" class=\"data row11 col6\" >0.7604</td>\n",
              "      <td id=\"T_7f456_row11_col7\" class=\"data row11 col7\" >0.7645</td>\n",
              "      <td id=\"T_7f456_row11_col8\" class=\"data row11 col8\" >0.0390</td>\n",
              "    </tr>\n",
              "    <tr>\n",
              "      <th id=\"T_7f456_level0_row12\" class=\"row_heading level0 row12\" >qda</th>\n",
              "      <td id=\"T_7f456_row12_col0\" class=\"data row12 col0\" >Quadratic Discriminant Analysis</td>\n",
              "      <td id=\"T_7f456_row12_col1\" class=\"data row12 col1\" >0.7057</td>\n",
              "      <td id=\"T_7f456_row12_col2\" class=\"data row12 col2\" >0.0000</td>\n",
              "      <td id=\"T_7f456_row12_col3\" class=\"data row12 col3\" >0.7057</td>\n",
              "      <td id=\"T_7f456_row12_col4\" class=\"data row12 col4\" >0.8252</td>\n",
              "      <td id=\"T_7f456_row12_col5\" class=\"data row12 col5\" >0.7010</td>\n",
              "      <td id=\"T_7f456_row12_col6\" class=\"data row12 col6\" >0.5606</td>\n",
              "      <td id=\"T_7f456_row12_col7\" class=\"data row12 col7\" >0.6185</td>\n",
              "      <td id=\"T_7f456_row12_col8\" class=\"data row12 col8\" >0.0400</td>\n",
              "    </tr>\n",
              "    <tr>\n",
              "      <th id=\"T_7f456_level0_row13\" class=\"row_heading level0 row13\" >nb</th>\n",
              "      <td id=\"T_7f456_row13_col0\" class=\"data row13 col0\" >Naive Bayes</td>\n",
              "      <td id=\"T_7f456_row13_col1\" class=\"data row13 col1\" >0.6566</td>\n",
              "      <td id=\"T_7f456_row13_col2\" class=\"data row13 col2\" >0.8801</td>\n",
              "      <td id=\"T_7f456_row13_col3\" class=\"data row13 col3\" >0.6566</td>\n",
              "      <td id=\"T_7f456_row13_col4\" class=\"data row13 col4\" >0.7814</td>\n",
              "      <td id=\"T_7f456_row13_col5\" class=\"data row13 col5\" >0.6545</td>\n",
              "      <td id=\"T_7f456_row13_col6\" class=\"data row13 col6\" >0.4874</td>\n",
              "      <td id=\"T_7f456_row13_col7\" class=\"data row13 col7\" >0.5451</td>\n",
              "      <td id=\"T_7f456_row13_col8\" class=\"data row13 col8\" >0.0690</td>\n",
              "    </tr>\n",
              "    <tr>\n",
              "      <th id=\"T_7f456_level0_row14\" class=\"row_heading level0 row14\" >dummy</th>\n",
              "      <td id=\"T_7f456_row14_col0\" class=\"data row14 col0\" >Dummy Classifier</td>\n",
              "      <td id=\"T_7f456_row14_col1\" class=\"data row14 col1\" >0.3380</td>\n",
              "      <td id=\"T_7f456_row14_col2\" class=\"data row14 col2\" >0.5000</td>\n",
              "      <td id=\"T_7f456_row14_col3\" class=\"data row14 col3\" >0.3380</td>\n",
              "      <td id=\"T_7f456_row14_col4\" class=\"data row14 col4\" >0.1142</td>\n",
              "      <td id=\"T_7f456_row14_col5\" class=\"data row14 col5\" >0.1707</td>\n",
              "      <td id=\"T_7f456_row14_col6\" class=\"data row14 col6\" >0.0000</td>\n",
              "      <td id=\"T_7f456_row14_col7\" class=\"data row14 col7\" >0.0000</td>\n",
              "      <td id=\"T_7f456_row14_col8\" class=\"data row14 col8\" >0.0330</td>\n",
              "    </tr>\n",
              "  </tbody>\n",
              "</table>\n"
            ]
          },
          "metadata": {}
        },
        {
          "output_type": "display_data",
          "data": {
            "text/plain": [
              "Processing:   0%|          | 0/69 [00:00<?, ?it/s]"
            ],
            "application/vnd.jupyter.widget-view+json": {
              "version_major": 2,
              "version_minor": 0,
              "model_id": "d94c323748ac450cb24a021b99ccc2bd"
            }
          },
          "metadata": {
            "application/vnd.jupyter.widget-view+json": {
              "colab": {
                "custom_widget_manager": {
                  "url": "https://ssl.gstatic.com/colaboratory-static/widgets/colab-cdn-widget-manager/2b70e893a8ba7c0f/manager.min.js"
                }
              }
            }
          }
        },
        {
          "output_type": "display_data",
          "data": {
            "text/plain": [
              "<IPython.core.display.HTML object>"
            ],
            "text/html": []
          },
          "metadata": {}
        }
      ]
    },
    {
      "cell_type": "markdown",
      "source": [
        "A métrica escolhida para definir o modelo que melhor se adequou aos dados foi a Extra Trees Classifier. Este modelo apresentou os seguintes resultados de desempenho:\n",
        "\n",
        "Acurácia (Accuracy): 97,60%\n",
        "AUC (Area Under the Curve): 99,75%\n",
        "Recall: 97,60%\n",
        "Precisão (Precision): 97,69%\n",
        "F1-Score: 97,60%\n",
        "Kappa: 96,40%\n",
        "MCC (Matthews Correlation Coefficient): 96,45%\n",
        "Tempo de Treinamento (TT): 0,347 segundos\n",
        "Esses resultados indicam que o modelo Extra Trees Classifier apresentou uma excelente performance em todas as métricas relevantes, tornando-se a escolha ideal para este conjunto de dados.\n",
        "\n",
        "O Extra Trees Classifier é um algoritmo robusto e eficaz, indicado para uma variedade de problemas de classificação, especialmente quando é necessário alcançar alta precisão e evitar overfitting. Sua maior aleatoriedade em comparação ao Random Forest e o fato de utilizar toda a base de dados para o treinamento fazem dele uma escolha atraente, especialmente quando a velocidade e a resistência do modelo são prioridades."
      ],
      "metadata": {
        "id": "qAgb-d92h3NE"
      }
    },
    {
      "cell_type": "code",
      "source": [
        "# verificando o melhor modelo\n",
        "print(best[0])"
      ],
      "metadata": {
        "colab": {
          "base_uri": "https://localhost:8080/",
          "height": 145
        },
        "id": "ajL9ORJDNCNI",
        "outputId": "16d33976-2822-4a14-8414-250edf296896"
      },
      "execution_count": null,
      "outputs": [
        {
          "output_type": "display_data",
          "data": {
            "text/plain": [
              "\u001b[1;35mExtraTreesClassifier\u001b[0m\u001b[1m(\u001b[0m\u001b[33mbootstrap\u001b[0m=\u001b[3;91mFalse\u001b[0m, \u001b[33mccp_alpha\u001b[0m=\u001b[1;36m0\u001b[0m\u001b[1;36m.0\u001b[0m, \u001b[33mclass_weight\u001b[0m=\u001b[3;35mNone\u001b[0m,\n",
              "                     \u001b[33mcriterion\u001b[0m=\u001b[32m'gini'\u001b[0m, \u001b[33mmax_depth\u001b[0m=\u001b[3;35mNone\u001b[0m, \u001b[33mmax_features\u001b[0m=\u001b[32m'sqrt'\u001b[0m,\n",
              "                     \u001b[33mmax_leaf_nodes\u001b[0m=\u001b[3;35mNone\u001b[0m, \u001b[33mmax_samples\u001b[0m=\u001b[3;35mNone\u001b[0m,\n",
              "                     \u001b[33mmin_impurity_decrease\u001b[0m=\u001b[1;36m0\u001b[0m\u001b[1;36m.0\u001b[0m, \u001b[33mmin_samples_leaf\u001b[0m=\u001b[1;36m1\u001b[0m,\n",
              "                     \u001b[33mmin_samples_split\u001b[0m=\u001b[1;36m2\u001b[0m, \u001b[33mmin_weight_fraction_leaf\u001b[0m=\u001b[1;36m0\u001b[0m\u001b[1;36m.0\u001b[0m,\n",
              "                     \u001b[33mmonotonic_cst\u001b[0m=\u001b[3;35mNone\u001b[0m, \u001b[33mn_estimators\u001b[0m=\u001b[1;36m100\u001b[0m, \u001b[33mn_jobs\u001b[0m=\u001b[1;36m-1\u001b[0m,\n",
              "                     \u001b[33moob_score\u001b[0m=\u001b[3;91mFalse\u001b[0m, \u001b[33mrandom_state\u001b[0m=\u001b[1;36m7075\u001b[0m, \u001b[33mverbose\u001b[0m=\u001b[1;36m0\u001b[0m,\n",
              "                     \u001b[33mwarm_start\u001b[0m=\u001b[3;91mFalse\u001b[0m\u001b[1m)\u001b[0m\n"
            ],
            "text/html": [
              "<pre style=\"white-space:pre;overflow-x:auto;line-height:normal;font-family:Menlo,'DejaVu Sans Mono',consolas,'Courier New',monospace\"><span style=\"color: #800080; text-decoration-color: #800080; font-weight: bold\">ExtraTreesClassifier</span><span style=\"font-weight: bold\">(</span><span style=\"color: #808000; text-decoration-color: #808000\">bootstrap</span>=<span style=\"color: #ff0000; text-decoration-color: #ff0000; font-style: italic\">False</span>, <span style=\"color: #808000; text-decoration-color: #808000\">ccp_alpha</span>=<span style=\"color: #008080; text-decoration-color: #008080; font-weight: bold\">0.0</span>, <span style=\"color: #808000; text-decoration-color: #808000\">class_weight</span>=<span style=\"color: #800080; text-decoration-color: #800080; font-style: italic\">None</span>,\n",
              "                     <span style=\"color: #808000; text-decoration-color: #808000\">criterion</span>=<span style=\"color: #008000; text-decoration-color: #008000\">'gini'</span>, <span style=\"color: #808000; text-decoration-color: #808000\">max_depth</span>=<span style=\"color: #800080; text-decoration-color: #800080; font-style: italic\">None</span>, <span style=\"color: #808000; text-decoration-color: #808000\">max_features</span>=<span style=\"color: #008000; text-decoration-color: #008000\">'sqrt'</span>,\n",
              "                     <span style=\"color: #808000; text-decoration-color: #808000\">max_leaf_nodes</span>=<span style=\"color: #800080; text-decoration-color: #800080; font-style: italic\">None</span>, <span style=\"color: #808000; text-decoration-color: #808000\">max_samples</span>=<span style=\"color: #800080; text-decoration-color: #800080; font-style: italic\">None</span>,\n",
              "                     <span style=\"color: #808000; text-decoration-color: #808000\">min_impurity_decrease</span>=<span style=\"color: #008080; text-decoration-color: #008080; font-weight: bold\">0.0</span>, <span style=\"color: #808000; text-decoration-color: #808000\">min_samples_leaf</span>=<span style=\"color: #008080; text-decoration-color: #008080; font-weight: bold\">1</span>,\n",
              "                     <span style=\"color: #808000; text-decoration-color: #808000\">min_samples_split</span>=<span style=\"color: #008080; text-decoration-color: #008080; font-weight: bold\">2</span>, <span style=\"color: #808000; text-decoration-color: #808000\">min_weight_fraction_leaf</span>=<span style=\"color: #008080; text-decoration-color: #008080; font-weight: bold\">0.0</span>,\n",
              "                     <span style=\"color: #808000; text-decoration-color: #808000\">monotonic_cst</span>=<span style=\"color: #800080; text-decoration-color: #800080; font-style: italic\">None</span>, <span style=\"color: #808000; text-decoration-color: #808000\">n_estimators</span>=<span style=\"color: #008080; text-decoration-color: #008080; font-weight: bold\">100</span>, <span style=\"color: #808000; text-decoration-color: #808000\">n_jobs</span>=<span style=\"color: #008080; text-decoration-color: #008080; font-weight: bold\">-1</span>,\n",
              "                     <span style=\"color: #808000; text-decoration-color: #808000\">oob_score</span>=<span style=\"color: #ff0000; text-decoration-color: #ff0000; font-style: italic\">False</span>, <span style=\"color: #808000; text-decoration-color: #808000\">random_state</span>=<span style=\"color: #008080; text-decoration-color: #008080; font-weight: bold\">7075</span>, <span style=\"color: #808000; text-decoration-color: #808000\">verbose</span>=<span style=\"color: #008080; text-decoration-color: #008080; font-weight: bold\">0</span>,\n",
              "                     <span style=\"color: #808000; text-decoration-color: #808000\">warm_start</span>=<span style=\"color: #ff0000; text-decoration-color: #ff0000; font-style: italic\">False</span><span style=\"font-weight: bold\">)</span>\n",
              "</pre>\n"
            ]
          },
          "metadata": {}
        }
      ]
    },
    {
      "cell_type": "code",
      "source": [
        "tuned_et = tune_model(best[0], optimize='Recall')\n"
      ],
      "metadata": {
        "colab": {
          "base_uri": "https://localhost:8080/",
          "height": 493,
          "referenced_widgets": [
            "9a5c0a1e819e4473b0d7817a25d50b40",
            "e7226799705747e290f864095a3a0968",
            "d9be8341291c4ec59bed83713eb56d28",
            "fde5f1c0e8f04e7fbb96d0b088142c7a",
            "57cea99abbac4207a40a9e197caf1103",
            "e3c8e78928194d41a15b949f16140e24",
            "eef7a8ff4d074013bd0f6b5a7de7e52a",
            "a0e23d28bc984bfd8f5a5704494b387f",
            "8e85bbabdc6245b8b2feda88428bc29e",
            "9329a6102d364300afcbd37c55b0c27f",
            "8e67f29557ef4be1b2d0bdccb0ccf806"
          ]
        },
        "id": "IZGUeTiENDrG",
        "outputId": "e818cb5e-9d93-48b8-cab8-3c410cdff1da"
      },
      "execution_count": null,
      "outputs": [
        {
          "output_type": "display_data",
          "data": {
            "text/plain": [
              "<IPython.core.display.HTML object>"
            ],
            "text/html": []
          },
          "metadata": {}
        },
        {
          "output_type": "display_data",
          "data": {
            "text/plain": [
              "<pandas.io.formats.style.Styler at 0x7ea00f238fd0>"
            ],
            "text/html": [
              "<style type=\"text/css\">\n",
              "#T_f0598_row10_col0, #T_f0598_row10_col1, #T_f0598_row10_col2, #T_f0598_row10_col3, #T_f0598_row10_col4, #T_f0598_row10_col5, #T_f0598_row10_col6 {\n",
              "  background: yellow;\n",
              "}\n",
              "</style>\n",
              "<table id=\"T_f0598\" class=\"dataframe\">\n",
              "  <thead>\n",
              "    <tr>\n",
              "      <th class=\"blank level0\" >&nbsp;</th>\n",
              "      <th id=\"T_f0598_level0_col0\" class=\"col_heading level0 col0\" >Accuracy</th>\n",
              "      <th id=\"T_f0598_level0_col1\" class=\"col_heading level0 col1\" >AUC</th>\n",
              "      <th id=\"T_f0598_level0_col2\" class=\"col_heading level0 col2\" >Recall</th>\n",
              "      <th id=\"T_f0598_level0_col3\" class=\"col_heading level0 col3\" >Prec.</th>\n",
              "      <th id=\"T_f0598_level0_col4\" class=\"col_heading level0 col4\" >F1</th>\n",
              "      <th id=\"T_f0598_level0_col5\" class=\"col_heading level0 col5\" >Kappa</th>\n",
              "      <th id=\"T_f0598_level0_col6\" class=\"col_heading level0 col6\" >MCC</th>\n",
              "    </tr>\n",
              "    <tr>\n",
              "      <th class=\"index_name level0\" >Fold</th>\n",
              "      <th class=\"blank col0\" >&nbsp;</th>\n",
              "      <th class=\"blank col1\" >&nbsp;</th>\n",
              "      <th class=\"blank col2\" >&nbsp;</th>\n",
              "      <th class=\"blank col3\" >&nbsp;</th>\n",
              "      <th class=\"blank col4\" >&nbsp;</th>\n",
              "      <th class=\"blank col5\" >&nbsp;</th>\n",
              "      <th class=\"blank col6\" >&nbsp;</th>\n",
              "    </tr>\n",
              "  </thead>\n",
              "  <tbody>\n",
              "    <tr>\n",
              "      <th id=\"T_f0598_level0_row0\" class=\"row_heading level0 row0\" >0</th>\n",
              "      <td id=\"T_f0598_row0_col0\" class=\"data row0 col0\" >0.9035</td>\n",
              "      <td id=\"T_f0598_row0_col1\" class=\"data row0 col1\" >0.9749</td>\n",
              "      <td id=\"T_f0598_row0_col2\" class=\"data row0 col2\" >0.9035</td>\n",
              "      <td id=\"T_f0598_row0_col3\" class=\"data row0 col3\" >0.9058</td>\n",
              "      <td id=\"T_f0598_row0_col4\" class=\"data row0 col4\" >0.9029</td>\n",
              "      <td id=\"T_f0598_row0_col5\" class=\"data row0 col5\" >0.8552</td>\n",
              "      <td id=\"T_f0598_row0_col6\" class=\"data row0 col6\" >0.8569</td>\n",
              "    </tr>\n",
              "    <tr>\n",
              "      <th id=\"T_f0598_level0_row1\" class=\"row_heading level0 row1\" >1</th>\n",
              "      <td id=\"T_f0598_row1_col0\" class=\"data row1 col0\" >0.8842</td>\n",
              "      <td id=\"T_f0598_row1_col1\" class=\"data row1 col1\" >0.9550</td>\n",
              "      <td id=\"T_f0598_row1_col2\" class=\"data row1 col2\" >0.8842</td>\n",
              "      <td id=\"T_f0598_row1_col3\" class=\"data row1 col3\" >0.8860</td>\n",
              "      <td id=\"T_f0598_row1_col4\" class=\"data row1 col4\" >0.8827</td>\n",
              "      <td id=\"T_f0598_row1_col5\" class=\"data row1 col5\" >0.8262</td>\n",
              "      <td id=\"T_f0598_row1_col6\" class=\"data row1 col6\" >0.8285</td>\n",
              "    </tr>\n",
              "    <tr>\n",
              "      <th id=\"T_f0598_level0_row2\" class=\"row_heading level0 row2\" >2</th>\n",
              "      <td id=\"T_f0598_row2_col0\" class=\"data row2 col0\" >0.8803</td>\n",
              "      <td id=\"T_f0598_row2_col1\" class=\"data row2 col1\" >0.9609</td>\n",
              "      <td id=\"T_f0598_row2_col2\" class=\"data row2 col2\" >0.8803</td>\n",
              "      <td id=\"T_f0598_row2_col3\" class=\"data row2 col3\" >0.8850</td>\n",
              "      <td id=\"T_f0598_row2_col4\" class=\"data row2 col4\" >0.8804</td>\n",
              "      <td id=\"T_f0598_row2_col5\" class=\"data row2 col5\" >0.8204</td>\n",
              "      <td id=\"T_f0598_row2_col6\" class=\"data row2 col6\" >0.8224</td>\n",
              "    </tr>\n",
              "    <tr>\n",
              "      <th id=\"T_f0598_level0_row3\" class=\"row_heading level0 row3\" >3</th>\n",
              "      <td id=\"T_f0598_row3_col0\" class=\"data row3 col0\" >0.8842</td>\n",
              "      <td id=\"T_f0598_row3_col1\" class=\"data row3 col1\" >0.9752</td>\n",
              "      <td id=\"T_f0598_row3_col2\" class=\"data row3 col2\" >0.8842</td>\n",
              "      <td id=\"T_f0598_row3_col3\" class=\"data row3 col3\" >0.8901</td>\n",
              "      <td id=\"T_f0598_row3_col4\" class=\"data row3 col4\" >0.8831</td>\n",
              "      <td id=\"T_f0598_row3_col5\" class=\"data row3 col5\" >0.8260</td>\n",
              "      <td id=\"T_f0598_row3_col6\" class=\"data row3 col6\" >0.8301</td>\n",
              "    </tr>\n",
              "    <tr>\n",
              "      <th id=\"T_f0598_level0_row4\" class=\"row_heading level0 row4\" >4</th>\n",
              "      <td id=\"T_f0598_row4_col0\" class=\"data row4 col0\" >0.8687</td>\n",
              "      <td id=\"T_f0598_row4_col1\" class=\"data row4 col1\" >0.9692</td>\n",
              "      <td id=\"T_f0598_row4_col2\" class=\"data row4 col2\" >0.8687</td>\n",
              "      <td id=\"T_f0598_row4_col3\" class=\"data row4 col3\" >0.8740</td>\n",
              "      <td id=\"T_f0598_row4_col4\" class=\"data row4 col4\" >0.8687</td>\n",
              "      <td id=\"T_f0598_row4_col5\" class=\"data row4 col5\" >0.8030</td>\n",
              "      <td id=\"T_f0598_row4_col6\" class=\"data row4 col6\" >0.8054</td>\n",
              "    </tr>\n",
              "    <tr>\n",
              "      <th id=\"T_f0598_level0_row5\" class=\"row_heading level0 row5\" >5</th>\n",
              "      <td id=\"T_f0598_row5_col0\" class=\"data row5 col0\" >0.9073</td>\n",
              "      <td id=\"T_f0598_row5_col1\" class=\"data row5 col1\" >0.9746</td>\n",
              "      <td id=\"T_f0598_row5_col2\" class=\"data row5 col2\" >0.9073</td>\n",
              "      <td id=\"T_f0598_row5_col3\" class=\"data row5 col3\" >0.9101</td>\n",
              "      <td id=\"T_f0598_row5_col4\" class=\"data row5 col4\" >0.9061</td>\n",
              "      <td id=\"T_f0598_row5_col5\" class=\"data row5 col5\" >0.8609</td>\n",
              "      <td id=\"T_f0598_row5_col6\" class=\"data row5 col6\" >0.8634</td>\n",
              "    </tr>\n",
              "    <tr>\n",
              "      <th id=\"T_f0598_level0_row6\" class=\"row_heading level0 row6\" >6</th>\n",
              "      <td id=\"T_f0598_row6_col0\" class=\"data row6 col0\" >0.8837</td>\n",
              "      <td id=\"T_f0598_row6_col1\" class=\"data row6 col1\" >0.9662</td>\n",
              "      <td id=\"T_f0598_row6_col2\" class=\"data row6 col2\" >0.8837</td>\n",
              "      <td id=\"T_f0598_row6_col3\" class=\"data row6 col3\" >0.8936</td>\n",
              "      <td id=\"T_f0598_row6_col4\" class=\"data row6 col4\" >0.8839</td>\n",
              "      <td id=\"T_f0598_row6_col5\" class=\"data row6 col5\" >0.8254</td>\n",
              "      <td id=\"T_f0598_row6_col6\" class=\"data row6 col6\" >0.8303</td>\n",
              "    </tr>\n",
              "    <tr>\n",
              "      <th id=\"T_f0598_level0_row7\" class=\"row_heading level0 row7\" >7</th>\n",
              "      <td id=\"T_f0598_row7_col0\" class=\"data row7 col0\" >0.8760</td>\n",
              "      <td id=\"T_f0598_row7_col1\" class=\"data row7 col1\" >0.9644</td>\n",
              "      <td id=\"T_f0598_row7_col2\" class=\"data row7 col2\" >0.8760</td>\n",
              "      <td id=\"T_f0598_row7_col3\" class=\"data row7 col3\" >0.8786</td>\n",
              "      <td id=\"T_f0598_row7_col4\" class=\"data row7 col4\" >0.8761</td>\n",
              "      <td id=\"T_f0598_row7_col5\" class=\"data row7 col5\" >0.8139</td>\n",
              "      <td id=\"T_f0598_row7_col6\" class=\"data row7 col6\" >0.8150</td>\n",
              "    </tr>\n",
              "    <tr>\n",
              "      <th id=\"T_f0598_level0_row8\" class=\"row_heading level0 row8\" >8</th>\n",
              "      <td id=\"T_f0598_row8_col0\" class=\"data row8 col0\" >0.8643</td>\n",
              "      <td id=\"T_f0598_row8_col1\" class=\"data row8 col1\" >0.9656</td>\n",
              "      <td id=\"T_f0598_row8_col2\" class=\"data row8 col2\" >0.8643</td>\n",
              "      <td id=\"T_f0598_row8_col3\" class=\"data row8 col3\" >0.8709</td>\n",
              "      <td id=\"T_f0598_row8_col4\" class=\"data row8 col4\" >0.8645</td>\n",
              "      <td id=\"T_f0598_row8_col5\" class=\"data row8 col5\" >0.7965</td>\n",
              "      <td id=\"T_f0598_row8_col6\" class=\"data row8 col6\" >0.7993</td>\n",
              "    </tr>\n",
              "    <tr>\n",
              "      <th id=\"T_f0598_level0_row9\" class=\"row_heading level0 row9\" >9</th>\n",
              "      <td id=\"T_f0598_row9_col0\" class=\"data row9 col0\" >0.8488</td>\n",
              "      <td id=\"T_f0598_row9_col1\" class=\"data row9 col1\" >0.9476</td>\n",
              "      <td id=\"T_f0598_row9_col2\" class=\"data row9 col2\" >0.8488</td>\n",
              "      <td id=\"T_f0598_row9_col3\" class=\"data row9 col3\" >0.8481</td>\n",
              "      <td id=\"T_f0598_row9_col4\" class=\"data row9 col4\" >0.8465</td>\n",
              "      <td id=\"T_f0598_row9_col5\" class=\"data row9 col5\" >0.7731</td>\n",
              "      <td id=\"T_f0598_row9_col6\" class=\"data row9 col6\" >0.7750</td>\n",
              "    </tr>\n",
              "    <tr>\n",
              "      <th id=\"T_f0598_level0_row10\" class=\"row_heading level0 row10\" >Mean</th>\n",
              "      <td id=\"T_f0598_row10_col0\" class=\"data row10 col0\" >0.8801</td>\n",
              "      <td id=\"T_f0598_row10_col1\" class=\"data row10 col1\" >0.9654</td>\n",
              "      <td id=\"T_f0598_row10_col2\" class=\"data row10 col2\" >0.8801</td>\n",
              "      <td id=\"T_f0598_row10_col3\" class=\"data row10 col3\" >0.8842</td>\n",
              "      <td id=\"T_f0598_row10_col4\" class=\"data row10 col4\" >0.8795</td>\n",
              "      <td id=\"T_f0598_row10_col5\" class=\"data row10 col5\" >0.8201</td>\n",
              "      <td id=\"T_f0598_row10_col6\" class=\"data row10 col6\" >0.8226</td>\n",
              "    </tr>\n",
              "    <tr>\n",
              "      <th id=\"T_f0598_level0_row11\" class=\"row_heading level0 row11\" >Std</th>\n",
              "      <td id=\"T_f0598_row11_col0\" class=\"data row11 col0\" >0.0165</td>\n",
              "      <td id=\"T_f0598_row11_col1\" class=\"data row11 col1\" >0.0086</td>\n",
              "      <td id=\"T_f0598_row11_col2\" class=\"data row11 col2\" >0.0165</td>\n",
              "      <td id=\"T_f0598_row11_col3\" class=\"data row11 col3\" >0.0170</td>\n",
              "      <td id=\"T_f0598_row11_col4\" class=\"data row11 col4\" >0.0166</td>\n",
              "      <td id=\"T_f0598_row11_col5\" class=\"data row11 col5\" >0.0247</td>\n",
              "      <td id=\"T_f0598_row11_col6\" class=\"data row11 col6\" >0.0248</td>\n",
              "    </tr>\n",
              "  </tbody>\n",
              "</table>\n"
            ]
          },
          "metadata": {}
        },
        {
          "output_type": "display_data",
          "data": {
            "text/plain": [
              "Processing:   0%|          | 0/7 [00:00<?, ?it/s]"
            ],
            "application/vnd.jupyter.widget-view+json": {
              "version_major": 2,
              "version_minor": 0,
              "model_id": "9a5c0a1e819e4473b0d7817a25d50b40"
            }
          },
          "metadata": {
            "application/vnd.jupyter.widget-view+json": {
              "colab": {
                "custom_widget_manager": {
                  "url": "https://ssl.gstatic.com/colaboratory-static/widgets/colab-cdn-widget-manager/2b70e893a8ba7c0f/manager.min.js"
                }
              }
            }
          }
        },
        {
          "output_type": "stream",
          "name": "stdout",
          "text": [
            "Fitting 10 folds for each of 10 candidates, totalling 100 fits\n"
          ]
        },
        {
          "output_type": "display_data",
          "data": {
            "text/plain": [
              "<IPython.core.display.HTML object>"
            ],
            "text/html": []
          },
          "metadata": {}
        },
        {
          "output_type": "stream",
          "name": "stdout",
          "text": [
            "Original model was better than the tuned model, hence it will be returned. NOTE: The display metrics are for the tuned model (not the original one).\n"
          ]
        }
      ]
    },
    {
      "cell_type": "markdown",
      "source": [
        "A melhor versão do modelo, já treinado em um conjunto de dados. Esse modelo é escolhido para ser ajustado em termos de suas hiperparâmetros."
      ],
      "metadata": {
        "id": "Bauoy55zkKEh"
      }
    },
    {
      "cell_type": "code",
      "source": [
        "# veriificando os parâmetros\n",
        "print(tuned_et)"
      ],
      "metadata": {
        "colab": {
          "base_uri": "https://localhost:8080/",
          "height": 145
        },
        "id": "7n3zQr7nNGGm",
        "outputId": "60b1718c-b103-4e36-d1f4-a9fb12720de1"
      },
      "execution_count": null,
      "outputs": [
        {
          "output_type": "display_data",
          "data": {
            "text/plain": [
              "\u001b[1;35mExtraTreesClassifier\u001b[0m\u001b[1m(\u001b[0m\u001b[33mbootstrap\u001b[0m=\u001b[3;91mFalse\u001b[0m, \u001b[33mccp_alpha\u001b[0m=\u001b[1;36m0\u001b[0m\u001b[1;36m.0\u001b[0m, \u001b[33mclass_weight\u001b[0m=\u001b[3;35mNone\u001b[0m,\n",
              "                     \u001b[33mcriterion\u001b[0m=\u001b[32m'gini'\u001b[0m, \u001b[33mmax_depth\u001b[0m=\u001b[3;35mNone\u001b[0m, \u001b[33mmax_features\u001b[0m=\u001b[32m'sqrt'\u001b[0m,\n",
              "                     \u001b[33mmax_leaf_nodes\u001b[0m=\u001b[3;35mNone\u001b[0m, \u001b[33mmax_samples\u001b[0m=\u001b[3;35mNone\u001b[0m,\n",
              "                     \u001b[33mmin_impurity_decrease\u001b[0m=\u001b[1;36m0\u001b[0m\u001b[1;36m.0\u001b[0m, \u001b[33mmin_samples_leaf\u001b[0m=\u001b[1;36m1\u001b[0m,\n",
              "                     \u001b[33mmin_samples_split\u001b[0m=\u001b[1;36m2\u001b[0m, \u001b[33mmin_weight_fraction_leaf\u001b[0m=\u001b[1;36m0\u001b[0m\u001b[1;36m.0\u001b[0m,\n",
              "                     \u001b[33mmonotonic_cst\u001b[0m=\u001b[3;35mNone\u001b[0m, \u001b[33mn_estimators\u001b[0m=\u001b[1;36m100\u001b[0m, \u001b[33mn_jobs\u001b[0m=\u001b[1;36m-1\u001b[0m,\n",
              "                     \u001b[33moob_score\u001b[0m=\u001b[3;91mFalse\u001b[0m, \u001b[33mrandom_state\u001b[0m=\u001b[1;36m7075\u001b[0m, \u001b[33mverbose\u001b[0m=\u001b[1;36m0\u001b[0m,\n",
              "                     \u001b[33mwarm_start\u001b[0m=\u001b[3;91mFalse\u001b[0m\u001b[1m)\u001b[0m\n"
            ],
            "text/html": [
              "<pre style=\"white-space:pre;overflow-x:auto;line-height:normal;font-family:Menlo,'DejaVu Sans Mono',consolas,'Courier New',monospace\"><span style=\"color: #800080; text-decoration-color: #800080; font-weight: bold\">ExtraTreesClassifier</span><span style=\"font-weight: bold\">(</span><span style=\"color: #808000; text-decoration-color: #808000\">bootstrap</span>=<span style=\"color: #ff0000; text-decoration-color: #ff0000; font-style: italic\">False</span>, <span style=\"color: #808000; text-decoration-color: #808000\">ccp_alpha</span>=<span style=\"color: #008080; text-decoration-color: #008080; font-weight: bold\">0.0</span>, <span style=\"color: #808000; text-decoration-color: #808000\">class_weight</span>=<span style=\"color: #800080; text-decoration-color: #800080; font-style: italic\">None</span>,\n",
              "                     <span style=\"color: #808000; text-decoration-color: #808000\">criterion</span>=<span style=\"color: #008000; text-decoration-color: #008000\">'gini'</span>, <span style=\"color: #808000; text-decoration-color: #808000\">max_depth</span>=<span style=\"color: #800080; text-decoration-color: #800080; font-style: italic\">None</span>, <span style=\"color: #808000; text-decoration-color: #808000\">max_features</span>=<span style=\"color: #008000; text-decoration-color: #008000\">'sqrt'</span>,\n",
              "                     <span style=\"color: #808000; text-decoration-color: #808000\">max_leaf_nodes</span>=<span style=\"color: #800080; text-decoration-color: #800080; font-style: italic\">None</span>, <span style=\"color: #808000; text-decoration-color: #808000\">max_samples</span>=<span style=\"color: #800080; text-decoration-color: #800080; font-style: italic\">None</span>,\n",
              "                     <span style=\"color: #808000; text-decoration-color: #808000\">min_impurity_decrease</span>=<span style=\"color: #008080; text-decoration-color: #008080; font-weight: bold\">0.0</span>, <span style=\"color: #808000; text-decoration-color: #808000\">min_samples_leaf</span>=<span style=\"color: #008080; text-decoration-color: #008080; font-weight: bold\">1</span>,\n",
              "                     <span style=\"color: #808000; text-decoration-color: #808000\">min_samples_split</span>=<span style=\"color: #008080; text-decoration-color: #008080; font-weight: bold\">2</span>, <span style=\"color: #808000; text-decoration-color: #808000\">min_weight_fraction_leaf</span>=<span style=\"color: #008080; text-decoration-color: #008080; font-weight: bold\">0.0</span>,\n",
              "                     <span style=\"color: #808000; text-decoration-color: #808000\">monotonic_cst</span>=<span style=\"color: #800080; text-decoration-color: #800080; font-style: italic\">None</span>, <span style=\"color: #808000; text-decoration-color: #808000\">n_estimators</span>=<span style=\"color: #008080; text-decoration-color: #008080; font-weight: bold\">100</span>, <span style=\"color: #808000; text-decoration-color: #808000\">n_jobs</span>=<span style=\"color: #008080; text-decoration-color: #008080; font-weight: bold\">-1</span>,\n",
              "                     <span style=\"color: #808000; text-decoration-color: #808000\">oob_score</span>=<span style=\"color: #ff0000; text-decoration-color: #ff0000; font-style: italic\">False</span>, <span style=\"color: #808000; text-decoration-color: #808000\">random_state</span>=<span style=\"color: #008080; text-decoration-color: #008080; font-weight: bold\">7075</span>, <span style=\"color: #808000; text-decoration-color: #808000\">verbose</span>=<span style=\"color: #008080; text-decoration-color: #008080; font-weight: bold\">0</span>,\n",
              "                     <span style=\"color: #808000; text-decoration-color: #808000\">warm_start</span>=<span style=\"color: #ff0000; text-decoration-color: #ff0000; font-style: italic\">False</span><span style=\"font-weight: bold\">)</span>\n",
              "</pre>\n"
            ]
          },
          "metadata": {}
        }
      ]
    },
    {
      "cell_type": "code",
      "source": [
        "\n",
        "# plotando matriz de confusão\n",
        "fig, ax = plt.subplots(figsize=(10, 6), dpi=72)\n",
        "plot_model(tuned_et, plot='confusion_matrix')\n",
        "plt.tight_layout()"
      ],
      "metadata": {
        "colab": {
          "base_uri": "https://localhost:8080/",
          "height": 455
        },
        "id": "LazUlWNWNKmT",
        "outputId": "c70e9949-2ba7-402e-a93d-ee05c056e67e"
      },
      "execution_count": null,
      "outputs": [
        {
          "output_type": "display_data",
          "data": {
            "text/plain": [
              "<IPython.core.display.HTML object>"
            ],
            "text/html": []
          },
          "metadata": {}
        },
        {
          "output_type": "display_data",
          "data": {
            "text/plain": [
              "<Figure size 720x432 with 1 Axes>"
            ],
            "image/png": "[encoded data removed]"
          },
          "metadata": {}
        },
        {
          "output_type": "display_data",
          "data": {
            "text/plain": [
              "<Figure size 800x550 with 0 Axes>"
            ]
          },
          "metadata": {}
        }
      ]
    },
    {
      "cell_type": "code",
      "source": [
        "\n",
        "# feature importances\n",
        "plot_model(tuned_et, plot='feature')"
      ],
      "metadata": {
        "colab": {
          "base_uri": "https://localhost:8080/",
          "height": 485
        },
        "id": "rWi9lbyuNW2-",
        "outputId": "db9a2c14-d451-4705-8578-a1e61dc53712"
      },
      "execution_count": null,
      "outputs": [
        {
          "output_type": "display_data",
          "data": {
            "text/plain": [
              "<IPython.core.display.HTML object>"
            ],
            "text/html": []
          },
          "metadata": {}
        },
        {
          "output_type": "display_data",
          "data": {
            "text/plain": [
              "<Figure size 800x500 with 1 Axes>"
            ],
            "image/png": "[encoded data removed]"
          },
          "metadata": {}
        }
      ]
    },
    {
      "cell_type": "markdown",
      "source": [
        "O gráfico acima apresenta as variáveis que exercem o maior impacto no conjunto de dados, destacando os atributos mais relevantes para o modelo. Essas variáveis são as que influenciam de forma significativa as previsões, indicando quais fatores desempenham um papel crucial na análise e nos resultados gerados pelo modelo. A visualização ajuda a identificar os principais determinantes e oferece insights valiosos sobre o comportamento dos dados, facilitando a interpretação e a compreensão do modelo.\n"
      ],
      "metadata": {
        "id": "yi3LH3JKkinV"
      }
    },
    {
      "cell_type": "code",
      "source": [
        "\n",
        "# finalizando o modelo\n",
        "final_et = finalize_model(tuned_et)"
      ],
      "metadata": {
        "id": "8k8wrMF2NZCY"
      },
      "execution_count": null,
      "outputs": []
    },
    {
      "cell_type": "code",
      "source": [
        "from sklearn.metrics import classification_report\n"
      ],
      "metadata": {
        "id": "XQRqqkhiNaDk"
      },
      "execution_count": null,
      "outputs": []
    },
    {
      "cell_type": "code",
      "source": [
        "test = pd.DataFrame(x_test, columns=df.columns[:21])\n",
        "test['target'] = y_test"
      ],
      "metadata": {
        "id": "1auUa_Y1NfI0"
      },
      "execution_count": null,
      "outputs": []
    },
    {
      "cell_type": "code",
      "source": [
        "# fazendo previsões com conjunto de teste\n",
        "test_preds = predict_model(final_et, data=test)"
      ],
      "metadata": {
        "colab": {
          "base_uri": "https://localhost:8080/",
          "height": 81
        },
        "id": "VsW3QHkTNf9r",
        "outputId": "45822a38-0987-46ba-bc39-6d38a1334d63"
      },
      "execution_count": null,
      "outputs": [
        {
          "output_type": "display_data",
          "data": {
            "text/plain": [
              "<pandas.io.formats.style.Styler at 0x7ea008573790>"
            ],
            "text/html": [
              "<style type=\"text/css\">\n",
              "</style>\n",
              "<table id=\"T_f1e17\" class=\"dataframe\">\n",
              "  <thead>\n",
              "    <tr>\n",
              "      <th class=\"blank level0\" >&nbsp;</th>\n",
              "      <th id=\"T_f1e17_level0_col0\" class=\"col_heading level0 col0\" >Model</th>\n",
              "      <th id=\"T_f1e17_level0_col1\" class=\"col_heading level0 col1\" >Accuracy</th>\n",
              "      <th id=\"T_f1e17_level0_col2\" class=\"col_heading level0 col2\" >AUC</th>\n",
              "      <th id=\"T_f1e17_level0_col3\" class=\"col_heading level0 col3\" >Recall</th>\n",
              "      <th id=\"T_f1e17_level0_col4\" class=\"col_heading level0 col4\" >Prec.</th>\n",
              "      <th id=\"T_f1e17_level0_col5\" class=\"col_heading level0 col5\" >F1</th>\n",
              "      <th id=\"T_f1e17_level0_col6\" class=\"col_heading level0 col6\" >Kappa</th>\n",
              "      <th id=\"T_f1e17_level0_col7\" class=\"col_heading level0 col7\" >MCC</th>\n",
              "    </tr>\n",
              "  </thead>\n",
              "  <tbody>\n",
              "    <tr>\n",
              "      <th id=\"T_f1e17_level0_row0\" class=\"row_heading level0 row0\" >0</th>\n",
              "      <td id=\"T_f1e17_row0_col0\" class=\"data row0 col0\" >Extra Trees Classifier</td>\n",
              "      <td id=\"T_f1e17_row0_col1\" class=\"data row0 col1\" >0.9380</td>\n",
              "      <td id=\"T_f1e17_row0_col2\" class=\"data row0 col2\" >0.9839</td>\n",
              "      <td id=\"T_f1e17_row0_col3\" class=\"data row0 col3\" >0.9380</td>\n",
              "      <td id=\"T_f1e17_row0_col4\" class=\"data row0 col4\" >0.9384</td>\n",
              "      <td id=\"T_f1e17_row0_col5\" class=\"data row0 col5\" >0.9381</td>\n",
              "      <td id=\"T_f1e17_row0_col6\" class=\"data row0 col6\" >0.8308</td>\n",
              "      <td id=\"T_f1e17_row0_col7\" class=\"data row0 col7\" >0.8309</td>\n",
              "    </tr>\n",
              "  </tbody>\n",
              "</table>\n"
            ]
          },
          "metadata": {}
        }
      ]
    },
    {
      "cell_type": "code",
      "source": [
        "import scikitplot as skplt\n"
      ],
      "metadata": {
        "id": "pHW5wsCjNyv7"
      },
      "execution_count": null,
      "outputs": []
    },
    {
      "cell_type": "code",
      "source": [
        "\n",
        "print('Relatório de Classificação:\\n', classification_report(test_preds['target'], test_preds['prediction_label'], digits=4))\n",
        "skplt.metrics.plot_confusion_matrix(test_preds['target'], test_preds['prediction_label'])"
      ],
      "metadata": {
        "colab": {
          "base_uri": "https://localhost:8080/",
          "height": 723
        },
        "id": "4DKXfDnHNq4l",
        "outputId": "8becfb27-4d94-4fe9-c465-6af52f864353"
      },
      "execution_count": null,
      "outputs": [
        {
          "output_type": "display_data",
          "data": {
            "text/plain": [
              "Relatório de Classificação:\n",
              "               precision    recall  f1-score   support\n",
              "\n",
              "         \u001b[1;36m1.0\u001b[0m     \u001b[1;36m0.9663\u001b[0m    \u001b[1;36m0.9686\u001b[0m    \u001b[1;36m0.9674\u001b[0m       \u001b[1;36m414\u001b[0m\n",
              "         \u001b[1;36m2.0\u001b[0m     \u001b[1;36m0.7895\u001b[0m    \u001b[1;36m0.8108\u001b[0m    \u001b[1;36m0.8000\u001b[0m        \u001b[1;36m74\u001b[0m\n",
              "         \u001b[1;36m3.0\u001b[0m     \u001b[1;36m0.9268\u001b[0m    \u001b[1;36m0.8636\u001b[0m    \u001b[1;36m0.8941\u001b[0m        \u001b[1;36m44\u001b[0m\n",
              "\n",
              "    accuracy                         \u001b[1;36m0.9380\u001b[0m       \u001b[1;36m532\u001b[0m\n",
              "   macro avg     \u001b[1;36m0.8942\u001b[0m    \u001b[1;36m0.8810\u001b[0m    \u001b[1;36m0.8872\u001b[0m       \u001b[1;36m532\u001b[0m\n",
              "weighted avg     \u001b[1;36m0.9384\u001b[0m    \u001b[1;36m0.9380\u001b[0m    \u001b[1;36m0.9381\u001b[0m       \u001b[1;36m532\u001b[0m\n",
              "\n"
            ],
            "text/html": [
              "<pre style=\"white-space:pre;overflow-x:auto;line-height:normal;font-family:Menlo,'DejaVu Sans Mono',consolas,'Courier New',monospace\">Relatório de Classificação:\n",
              "               precision    recall  f1-score   support\n",
              "\n",
              "         <span style=\"color: #008080; text-decoration-color: #008080; font-weight: bold\">1.0</span>     <span style=\"color: #008080; text-decoration-color: #008080; font-weight: bold\">0.9663</span>    <span style=\"color: #008080; text-decoration-color: #008080; font-weight: bold\">0.9686</span>    <span style=\"color: #008080; text-decoration-color: #008080; font-weight: bold\">0.9674</span>       <span style=\"color: #008080; text-decoration-color: #008080; font-weight: bold\">414</span>\n",
              "         <span style=\"color: #008080; text-decoration-color: #008080; font-weight: bold\">2.0</span>     <span style=\"color: #008080; text-decoration-color: #008080; font-weight: bold\">0.7895</span>    <span style=\"color: #008080; text-decoration-color: #008080; font-weight: bold\">0.8108</span>    <span style=\"color: #008080; text-decoration-color: #008080; font-weight: bold\">0.8000</span>        <span style=\"color: #008080; text-decoration-color: #008080; font-weight: bold\">74</span>\n",
              "         <span style=\"color: #008080; text-decoration-color: #008080; font-weight: bold\">3.0</span>     <span style=\"color: #008080; text-decoration-color: #008080; font-weight: bold\">0.9268</span>    <span style=\"color: #008080; text-decoration-color: #008080; font-weight: bold\">0.8636</span>    <span style=\"color: #008080; text-decoration-color: #008080; font-weight: bold\">0.8941</span>        <span style=\"color: #008080; text-decoration-color: #008080; font-weight: bold\">44</span>\n",
              "\n",
              "    accuracy                         <span style=\"color: #008080; text-decoration-color: #008080; font-weight: bold\">0.9380</span>       <span style=\"color: #008080; text-decoration-color: #008080; font-weight: bold\">532</span>\n",
              "   macro avg     <span style=\"color: #008080; text-decoration-color: #008080; font-weight: bold\">0.8942</span>    <span style=\"color: #008080; text-decoration-color: #008080; font-weight: bold\">0.8810</span>    <span style=\"color: #008080; text-decoration-color: #008080; font-weight: bold\">0.8872</span>       <span style=\"color: #008080; text-decoration-color: #008080; font-weight: bold\">532</span>\n",
              "weighted avg     <span style=\"color: #008080; text-decoration-color: #008080; font-weight: bold\">0.9384</span>    <span style=\"color: #008080; text-decoration-color: #008080; font-weight: bold\">0.9380</span>    <span style=\"color: #008080; text-decoration-color: #008080; font-weight: bold\">0.9381</span>       <span style=\"color: #008080; text-decoration-color: #008080; font-weight: bold\">532</span>\n",
              "\n",
              "</pre>\n"
            ]
          },
          "metadata": {}
        },
        {
          "output_type": "execute_result",
          "data": {
            "text/plain": [
              "<Axes: title={'center': 'Confusion Matrix'}, xlabel='Predicted label', ylabel='True label'>"
            ]
          },
          "metadata": {},
          "execution_count": 41
        },
        {
          "output_type": "display_data",
          "data": {
            "text/plain": [
              "<Figure size 800x550 with 2 Axes>"
            ],
            "image/png": "[encoded data removed]"
          },
          "metadata": {}
        }
      ]
    },
    {
      "cell_type": "markdown",
      "source": [
        "**Conclusão**\n",
        "\n",
        "O processo de classificação facilitou a modelagem de forma simplificada e ágil, permitindo a construção e a avaliação eficiente de modelos preditivos. A aplicação de algoritmos robustos, como o Extra Trees Classifier, contribuiu para a obtenção de resultados precisos e de alto desempenho, otimizando a análise dos dados. A abordagem adotada não apenas acelerou o desenvolvimento, mas também proporcionou uma melhor compreensão das variáveis mais influentes, garantindo que a modelagem fosse tanto eficaz quanto intuitiva. Em suma, a metodologia aplicada tornou o processo mais direto e com alto grau de assertividade, contribuindo para decisões informadas e precisas."
      ],
      "metadata": {
        "id": "01TQ9IfDlQip"
      }
    },
    {
      "cell_type": "markdown",
      "source": [
        "O modelo apresentou um desempenho geral de 93,80% de acurácia. Para as classes individuais:\n",
        "\n",
        "Classe 1 (label 1.0): Obteve alta performance, com uma precisão de 96,63%, recall de 96,86% e f1-score de 96,74%, com 414 amostras.\n",
        "Classe 2 (label 2.0): Apresentou um desempenho moderado, com precisão de 78,95%, recall de 81,08% e f1-score de 80,00%, com 74 amostras.\n",
        "Classe 3 (label 3.0): Mostrou bons resultados, com precisão de 92,68%, recall de 86,36% e f1-score de 89,41%, com 44 amostras.\n",
        "As médias macro e ponderada refletem uma boa distribuição de desempenho entre as classes, com valores de f1-score de 88,72% e 93,81%, respectivamente.\n",
        "\n",
        "A matriz de confusão é uma ferramenta adicional para análise detalhada dos erros de classificação."
      ],
      "metadata": {
        "id": "--wfvfcOggdR"
      }
    }
  ]
}